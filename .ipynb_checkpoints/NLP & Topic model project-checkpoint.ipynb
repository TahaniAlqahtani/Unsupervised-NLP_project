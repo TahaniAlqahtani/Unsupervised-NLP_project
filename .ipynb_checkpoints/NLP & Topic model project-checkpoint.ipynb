{
 "cells": [
  {
   "cell_type": "markdown",
   "id": "9718aee9",
   "metadata": {},
   "source": [
    "### Appendix\n",
    "- Click on the links:\n",
    "\n",
    ">1.   <a href=#imports>Libraries Imports</a>\n",
    ">2.   <a href=#load>Load Data</a>\n",
    ">3.   <a href=#preprocess>Data preprocess</a>\n",
    ">4.   <a href=#topic>Topic Modelling</a>"
   ]
  },
  {
   "cell_type": "markdown",
   "id": "b10c9d2e",
   "metadata": {},
   "source": [
    "##   <a name='imports'>Libraries Imports:</a>"
   ]
  },
  {
   "cell_type": "code",
   "execution_count": 1,
   "id": "7a8c506d",
   "metadata": {},
   "outputs": [
    {
     "name": "stderr",
     "output_type": "stream",
     "text": [
      "C:\\Users\\hp\\anaconda3\\lib\\site-packages\\gensim\\similarities\\__init__.py:15: UserWarning: The gensim.similarities.levenshtein submodule is disabled, because the optional Levenshtein package <https://pypi.org/project/python-Levenshtein/> is unavailable. Install Levenhstein (e.g. `pip install python-Levenshtein`) to suppress this warning.\n",
      "  warnings.warn(msg)\n"
     ]
    }
   ],
   "source": [
    "import pandas as pd\n",
    "import numpy as np\n",
    "\n",
    "#for text pre-processing\n",
    "import re, string, spacy, gensim\n",
    "import nltk\n",
    "from nltk.tokenize import word_tokenize\n",
    "from nltk.corpus import stopwords\n",
    "from nltk.tokenize import word_tokenize\n",
    "from nltk.stem import SnowballStemmer\n",
    "from nltk.corpus import wordnet\n",
    "from nltk.stem import WordNetLemmatizer\n",
    "import nltk\n",
    "#nltk.download('wordnet')\n",
    "from subprocess import check_output\n",
    "from wordcloud import WordCloud, STOPWORDS\n",
    "from sklearn.decomposition import LatentDirichletAllocation, TruncatedSVD\n",
    "from sklearn.model_selection import GridSearchCV\n",
    "from pprint import pprint\n",
    "from sklearn.model_selection import train_test_split\n",
    "from sklearn.feature_extraction.text import CountVectorizer, TfidfVectorizer\n",
    "from sklearn.linear_model import LogisticRegression\n",
    "from sklearn.metrics import f1_score, recall_score, precision_score, fbeta_score\n",
    "from sklearn.naive_bayes import MultinomialNB\n",
    "\n",
    "from sklearn.decomposition import TruncatedSVD\n",
    "from sklearn.decomposition import NMF\n",
    "import seaborn as sns\n",
    "import pyLDAvis\n",
    "import pyLDAvis.sklearn\n",
    "import matplotlib.pyplot as plt\n",
    "plt.style.use('fivethirtyeight')\n",
    "%matplotlib inline\n",
    "\n",
    "from warnings import filterwarnings\n",
    "filterwarnings('ignore')\n",
    "\n",
    "\n"
   ]
  },
  {
   "cell_type": "code",
   "execution_count": 2,
   "id": "897365bb",
   "metadata": {},
   "outputs": [],
   "source": [
    "#for text pre-processing\n",
    "#convert to lowercase and remove punctuations and characters and then strip\n",
    "def preprocess(text):\n",
    "    text = text.lower() #lowercase text\n",
    "    text=text.strip()  #get rid of leading/trailing whitespace \n",
    "    text=re.compile('<.*?>').sub('', text) #Remove HTML tags/markups\n",
    "    text = re.compile('[%s]' % re.escape(string.punctuation)).sub(' ', text)  #Replace punctuation with space. Careful since punctuation can sometime be useful\n",
    "    text = re.sub('\\s+', ' ', text)  #Remove extra space and tabs\n",
    "    text = re.sub(r'\\[[0-9]*\\]',' ',text) #[0-9] matches any digit (0 to 10000...)\n",
    "    text=re.sub(r'[^\\w\\s]', '', str(text).lower().strip())\n",
    "    text = re.sub(r'\\d',' ',text) #matches any digit from 0 to 100000..., \\D matches non-digits\n",
    "    text = re.sub(r'\\s+',' ',text) #\\s matches any whitespace, \\s+ matches multiple whitespace, \\S matches non-whitespace \n",
    "    \n",
    "    return text\n",
    "\n",
    "def stopword(string):\n",
    "    a= [i for i in string.split() if i not in stopwords.words('english')]\n",
    "    return ' '.join(a)\n",
    "\n",
    "\n",
    "lemma = WordNetLemmatizer()\n",
    "def lemmatizer(string):\n",
    "    a=[lemma.lemmatize(i) for i in word_tokenize(string) ]\n",
    "    return \" \".join(a)\n",
    "\n"
   ]
  },
  {
   "cell_type": "markdown",
   "id": "fcd1085c",
   "metadata": {},
   "source": [
    " ##  <a name='load'>Load Data:</a>"
   ]
  },
  {
   "cell_type": "markdown",
   "id": "435e6051",
   "metadata": {},
   "source": [
    "#df = pd.read_csv(\"metadata.csv\",nrows=2000)"
   ]
  },
  {
   "cell_type": "markdown",
   "id": "46f9a412",
   "metadata": {},
   "source": [
    "#df.to_csv(\"metadata2.csv\")  #convert df to csv file"
   ]
  },
  {
   "cell_type": "code",
   "execution_count": 3,
   "id": "99b58cce",
   "metadata": {},
   "outputs": [],
   "source": [
    "df = pd.read_csv(\"metadata2.csv\")"
   ]
  },
  {
   "cell_type": "code",
   "execution_count": 4,
   "id": "ab26dc18",
   "metadata": {},
   "outputs": [
    {
     "data": {
      "text/html": [
       "<div>\n",
       "<style scoped>\n",
       "    .dataframe tbody tr th:only-of-type {\n",
       "        vertical-align: middle;\n",
       "    }\n",
       "\n",
       "    .dataframe tbody tr th {\n",
       "        vertical-align: top;\n",
       "    }\n",
       "\n",
       "    .dataframe thead th {\n",
       "        text-align: right;\n",
       "    }\n",
       "</style>\n",
       "<table border=\"1\" class=\"dataframe\">\n",
       "  <thead>\n",
       "    <tr style=\"text-align: right;\">\n",
       "      <th></th>\n",
       "      <th>cord_uid</th>\n",
       "      <th>sha</th>\n",
       "      <th>source_x</th>\n",
       "      <th>title</th>\n",
       "      <th>doi</th>\n",
       "      <th>pmcid</th>\n",
       "      <th>pubmed_id</th>\n",
       "      <th>license</th>\n",
       "      <th>abstract</th>\n",
       "      <th>publish_time</th>\n",
       "      <th>authors</th>\n",
       "      <th>journal</th>\n",
       "      <th>mag_id</th>\n",
       "      <th>who_covidence_id</th>\n",
       "      <th>arxiv_id</th>\n",
       "      <th>pdf_json_files</th>\n",
       "      <th>pmc_json_files</th>\n",
       "      <th>url</th>\n",
       "      <th>s2_id</th>\n",
       "    </tr>\n",
       "  </thead>\n",
       "  <tbody>\n",
       "    <tr>\n",
       "      <th>0</th>\n",
       "      <td>ug7v899j</td>\n",
       "      <td>d1aafb70c066a2068b02786f8929fd9c900897fb</td>\n",
       "      <td>PMC</td>\n",
       "      <td>Clinical features of culture-proven Mycoplasma...</td>\n",
       "      <td>10.1186/1471-2334-1-6</td>\n",
       "      <td>PMC35282</td>\n",
       "      <td>11472636</td>\n",
       "      <td>no-cc</td>\n",
       "      <td>OBJECTIVE: This retrospective chart review des...</td>\n",
       "      <td>04/07/2001</td>\n",
       "      <td>Madani, Tariq A; Al-Ghamdi, Aisha A</td>\n",
       "      <td>BMC Infect Dis</td>\n",
       "      <td>NaN</td>\n",
       "      <td>NaN</td>\n",
       "      <td>NaN</td>\n",
       "      <td>document_parses/pdf_json/d1aafb70c066a2068b027...</td>\n",
       "      <td>document_parses/pmc_json/PMC35282.xml.json</td>\n",
       "      <td>https://www.ncbi.nlm.nih.gov/pmc/articles/PMC3...</td>\n",
       "      <td>NaN</td>\n",
       "    </tr>\n",
       "    <tr>\n",
       "      <th>1</th>\n",
       "      <td>02tnwd4m</td>\n",
       "      <td>6b0567729c2143a66d737eb0a2f63f2dce2e5a7d</td>\n",
       "      <td>PMC</td>\n",
       "      <td>Nitric oxide: a pro-inflammatory mediator in l...</td>\n",
       "      <td>10.1186/rr14</td>\n",
       "      <td>PMC59543</td>\n",
       "      <td>11667967</td>\n",
       "      <td>no-cc</td>\n",
       "      <td>Inflammatory diseases of the respiratory tract...</td>\n",
       "      <td>15/08/2000</td>\n",
       "      <td>Vliet, Albert van der; Eiserich, Jason P; Cros...</td>\n",
       "      <td>Respir Res</td>\n",
       "      <td>NaN</td>\n",
       "      <td>NaN</td>\n",
       "      <td>NaN</td>\n",
       "      <td>document_parses/pdf_json/6b0567729c2143a66d737...</td>\n",
       "      <td>document_parses/pmc_json/PMC59543.xml.json</td>\n",
       "      <td>https://www.ncbi.nlm.nih.gov/pmc/articles/PMC5...</td>\n",
       "      <td>NaN</td>\n",
       "    </tr>\n",
       "    <tr>\n",
       "      <th>2</th>\n",
       "      <td>ejv2xln0</td>\n",
       "      <td>06ced00a5fc04215949aa72528f2eeaae1d58927</td>\n",
       "      <td>PMC</td>\n",
       "      <td>Surfactant protein-D and pulmonary host defense</td>\n",
       "      <td>10.1186/rr19</td>\n",
       "      <td>PMC59549</td>\n",
       "      <td>11667972</td>\n",
       "      <td>no-cc</td>\n",
       "      <td>Surfactant protein-D (SP-D) participates in th...</td>\n",
       "      <td>25/08/2000</td>\n",
       "      <td>Crouch, Erika C</td>\n",
       "      <td>Respir Res</td>\n",
       "      <td>NaN</td>\n",
       "      <td>NaN</td>\n",
       "      <td>NaN</td>\n",
       "      <td>document_parses/pdf_json/06ced00a5fc04215949aa...</td>\n",
       "      <td>document_parses/pmc_json/PMC59549.xml.json</td>\n",
       "      <td>https://www.ncbi.nlm.nih.gov/pmc/articles/PMC5...</td>\n",
       "      <td>NaN</td>\n",
       "    </tr>\n",
       "  </tbody>\n",
       "</table>\n",
       "</div>"
      ],
      "text/plain": [
       "   cord_uid                                       sha source_x  \\\n",
       "0  ug7v899j  d1aafb70c066a2068b02786f8929fd9c900897fb      PMC   \n",
       "1  02tnwd4m  6b0567729c2143a66d737eb0a2f63f2dce2e5a7d      PMC   \n",
       "2  ejv2xln0  06ced00a5fc04215949aa72528f2eeaae1d58927      PMC   \n",
       "\n",
       "                                               title                    doi  \\\n",
       "0  Clinical features of culture-proven Mycoplasma...  10.1186/1471-2334-1-6   \n",
       "1  Nitric oxide: a pro-inflammatory mediator in l...           10.1186/rr14   \n",
       "2    Surfactant protein-D and pulmonary host defense           10.1186/rr19   \n",
       "\n",
       "      pmcid  pubmed_id license  \\\n",
       "0  PMC35282   11472636   no-cc   \n",
       "1  PMC59543   11667967   no-cc   \n",
       "2  PMC59549   11667972   no-cc   \n",
       "\n",
       "                                            abstract publish_time  \\\n",
       "0  OBJECTIVE: This retrospective chart review des...   04/07/2001   \n",
       "1  Inflammatory diseases of the respiratory tract...   15/08/2000   \n",
       "2  Surfactant protein-D (SP-D) participates in th...   25/08/2000   \n",
       "\n",
       "                                             authors         journal  mag_id  \\\n",
       "0                Madani, Tariq A; Al-Ghamdi, Aisha A  BMC Infect Dis     NaN   \n",
       "1  Vliet, Albert van der; Eiserich, Jason P; Cros...      Respir Res     NaN   \n",
       "2                                    Crouch, Erika C      Respir Res     NaN   \n",
       "\n",
       "   who_covidence_id  arxiv_id  \\\n",
       "0               NaN       NaN   \n",
       "1               NaN       NaN   \n",
       "2               NaN       NaN   \n",
       "\n",
       "                                      pdf_json_files  \\\n",
       "0  document_parses/pdf_json/d1aafb70c066a2068b027...   \n",
       "1  document_parses/pdf_json/6b0567729c2143a66d737...   \n",
       "2  document_parses/pdf_json/06ced00a5fc04215949aa...   \n",
       "\n",
       "                               pmc_json_files  \\\n",
       "0  document_parses/pmc_json/PMC35282.xml.json   \n",
       "1  document_parses/pmc_json/PMC59543.xml.json   \n",
       "2  document_parses/pmc_json/PMC59549.xml.json   \n",
       "\n",
       "                                                 url  s2_id  \n",
       "0  https://www.ncbi.nlm.nih.gov/pmc/articles/PMC3...    NaN  \n",
       "1  https://www.ncbi.nlm.nih.gov/pmc/articles/PMC5...    NaN  \n",
       "2  https://www.ncbi.nlm.nih.gov/pmc/articles/PMC5...    NaN  "
      ]
     },
     "execution_count": 4,
     "metadata": {},
     "output_type": "execute_result"
    }
   ],
   "source": [
    "df.head(3)"
   ]
  },
  {
   "cell_type": "markdown",
   "id": "dc8f9aff",
   "metadata": {},
   "source": [
    "##  <a name='preprocess'>Data preprocess</a>\n"
   ]
  },
  {
   "cell_type": "code",
   "execution_count": 5,
   "id": "2ef1afb4",
   "metadata": {},
   "outputs": [
    {
     "data": {
      "text/html": [
       "<div>\n",
       "<style scoped>\n",
       "    .dataframe tbody tr th:only-of-type {\n",
       "        vertical-align: middle;\n",
       "    }\n",
       "\n",
       "    .dataframe tbody tr th {\n",
       "        vertical-align: top;\n",
       "    }\n",
       "\n",
       "    .dataframe thead th {\n",
       "        text-align: right;\n",
       "    }\n",
       "</style>\n",
       "<table border=\"1\" class=\"dataframe\">\n",
       "  <thead>\n",
       "    <tr style=\"text-align: right;\">\n",
       "      <th></th>\n",
       "      <th>abstract</th>\n",
       "    </tr>\n",
       "  </thead>\n",
       "  <tbody>\n",
       "    <tr>\n",
       "      <th>0</th>\n",
       "      <td>OBJECTIVE: This retrospective chart review des...</td>\n",
       "    </tr>\n",
       "    <tr>\n",
       "      <th>1</th>\n",
       "      <td>Inflammatory diseases of the respiratory tract...</td>\n",
       "    </tr>\n",
       "    <tr>\n",
       "      <th>2</th>\n",
       "      <td>Surfactant protein-D (SP-D) participates in th...</td>\n",
       "    </tr>\n",
       "    <tr>\n",
       "      <th>3</th>\n",
       "      <td>Endothelin-1 (ET-1) is a 21 amino acid peptide...</td>\n",
       "    </tr>\n",
       "    <tr>\n",
       "      <th>4</th>\n",
       "      <td>Respiratory syncytial virus (RSV) and pneumoni...</td>\n",
       "    </tr>\n",
       "    <tr>\n",
       "      <th>...</th>\n",
       "      <td>...</td>\n",
       "    </tr>\n",
       "    <tr>\n",
       "      <th>1995</th>\n",
       "      <td>Understanding immune responses elicited by vac...</td>\n",
       "    </tr>\n",
       "    <tr>\n",
       "      <th>1996</th>\n",
       "      <td>BACKGROUND: Streptococcus pneumoniae is an imp...</td>\n",
       "    </tr>\n",
       "    <tr>\n",
       "      <th>1997</th>\n",
       "      <td>Cadmium is an environmentally hazardous metal,...</td>\n",
       "    </tr>\n",
       "    <tr>\n",
       "      <th>1998</th>\n",
       "      <td>High-mobility-group-box chromosomal protein 1 ...</td>\n",
       "    </tr>\n",
       "    <tr>\n",
       "      <th>1999</th>\n",
       "      <td>Since the re-emergence of Ebola in West Africa...</td>\n",
       "    </tr>\n",
       "  </tbody>\n",
       "</table>\n",
       "<p>2000 rows × 1 columns</p>\n",
       "</div>"
      ],
      "text/plain": [
       "                                               abstract\n",
       "0     OBJECTIVE: This retrospective chart review des...\n",
       "1     Inflammatory diseases of the respiratory tract...\n",
       "2     Surfactant protein-D (SP-D) participates in th...\n",
       "3     Endothelin-1 (ET-1) is a 21 amino acid peptide...\n",
       "4     Respiratory syncytial virus (RSV) and pneumoni...\n",
       "...                                                 ...\n",
       "1995  Understanding immune responses elicited by vac...\n",
       "1996  BACKGROUND: Streptococcus pneumoniae is an imp...\n",
       "1997  Cadmium is an environmentally hazardous metal,...\n",
       "1998  High-mobility-group-box chromosomal protein 1 ...\n",
       "1999  Since the re-emergence of Ebola in West Africa...\n",
       "\n",
       "[2000 rows x 1 columns]"
      ]
     },
     "execution_count": 5,
     "metadata": {},
     "output_type": "execute_result"
    }
   ],
   "source": [
    "df1 = df.loc[:, [\"abstract\"]]\n",
    "df1"
   ]
  },
  {
   "cell_type": "code",
   "execution_count": 6,
   "id": "9e1df581",
   "metadata": {},
   "outputs": [
    {
     "name": "stdout",
     "output_type": "stream",
     "text": [
      "<class 'pandas.core.frame.DataFrame'>\n",
      "RangeIndex: 2000 entries, 0 to 1999\n",
      "Data columns (total 1 columns):\n",
      " #   Column    Non-Null Count  Dtype \n",
      "---  ------    --------------  ----- \n",
      " 0   abstract  1914 non-null   object\n",
      "dtypes: object(1)\n",
      "memory usage: 15.8+ KB\n"
     ]
    }
   ],
   "source": [
    "df1.info()"
   ]
  },
  {
   "cell_type": "code",
   "execution_count": 7,
   "id": "c81f6709",
   "metadata": {},
   "outputs": [],
   "source": [
    "df1 = df1.dropna(subset = ['abstract'],inplace=False)"
   ]
  },
  {
   "cell_type": "code",
   "execution_count": 8,
   "id": "d51cc736",
   "metadata": {},
   "outputs": [
    {
     "name": "stdout",
     "output_type": "stream",
     "text": [
      "<class 'pandas.core.frame.DataFrame'>\n",
      "Int64Index: 1914 entries, 0 to 1999\n",
      "Data columns (total 1 columns):\n",
      " #   Column    Non-Null Count  Dtype \n",
      "---  ------    --------------  ----- \n",
      " 0   abstract  1914 non-null   object\n",
      "dtypes: object(1)\n",
      "memory usage: 29.9+ KB\n"
     ]
    }
   ],
   "source": [
    "df1.info()"
   ]
  },
  {
   "cell_type": "code",
   "execution_count": 9,
   "id": "cea2691c",
   "metadata": {},
   "outputs": [
    {
     "data": {
      "text/plain": [
       "abstract    0\n",
       "dtype: int64"
      ]
     },
     "execution_count": 9,
     "metadata": {},
     "output_type": "execute_result"
    }
   ],
   "source": [
    "df1.isna().sum()"
   ]
  },
  {
   "cell_type": "code",
   "execution_count": 10,
   "id": "ca8dd810",
   "metadata": {},
   "outputs": [
    {
     "data": {
      "text/html": [
       "<div>\n",
       "<style scoped>\n",
       "    .dataframe tbody tr th:only-of-type {\n",
       "        vertical-align: middle;\n",
       "    }\n",
       "\n",
       "    .dataframe tbody tr th {\n",
       "        vertical-align: top;\n",
       "    }\n",
       "\n",
       "    .dataframe thead th {\n",
       "        text-align: right;\n",
       "    }\n",
       "</style>\n",
       "<table border=\"1\" class=\"dataframe\">\n",
       "  <thead>\n",
       "    <tr style=\"text-align: right;\">\n",
       "      <th></th>\n",
       "      <th>abstract</th>\n",
       "    </tr>\n",
       "  </thead>\n",
       "  <tbody>\n",
       "    <tr>\n",
       "      <th>0</th>\n",
       "      <td>OBJECTIVE: This retrospective chart review des...</td>\n",
       "    </tr>\n",
       "    <tr>\n",
       "      <th>1</th>\n",
       "      <td>Inflammatory diseases of the respiratory tract...</td>\n",
       "    </tr>\n",
       "    <tr>\n",
       "      <th>2</th>\n",
       "      <td>Surfactant protein-D (SP-D) participates in th...</td>\n",
       "    </tr>\n",
       "    <tr>\n",
       "      <th>3</th>\n",
       "      <td>Endothelin-1 (ET-1) is a 21 amino acid peptide...</td>\n",
       "    </tr>\n",
       "    <tr>\n",
       "      <th>4</th>\n",
       "      <td>Respiratory syncytial virus (RSV) and pneumoni...</td>\n",
       "    </tr>\n",
       "    <tr>\n",
       "      <th>...</th>\n",
       "      <td>...</td>\n",
       "    </tr>\n",
       "    <tr>\n",
       "      <th>1995</th>\n",
       "      <td>Understanding immune responses elicited by vac...</td>\n",
       "    </tr>\n",
       "    <tr>\n",
       "      <th>1996</th>\n",
       "      <td>BACKGROUND: Streptococcus pneumoniae is an imp...</td>\n",
       "    </tr>\n",
       "    <tr>\n",
       "      <th>1997</th>\n",
       "      <td>Cadmium is an environmentally hazardous metal,...</td>\n",
       "    </tr>\n",
       "    <tr>\n",
       "      <th>1998</th>\n",
       "      <td>High-mobility-group-box chromosomal protein 1 ...</td>\n",
       "    </tr>\n",
       "    <tr>\n",
       "      <th>1999</th>\n",
       "      <td>Since the re-emergence of Ebola in West Africa...</td>\n",
       "    </tr>\n",
       "  </tbody>\n",
       "</table>\n",
       "<p>1914 rows × 1 columns</p>\n",
       "</div>"
      ],
      "text/plain": [
       "                                               abstract\n",
       "0     OBJECTIVE: This retrospective chart review des...\n",
       "1     Inflammatory diseases of the respiratory tract...\n",
       "2     Surfactant protein-D (SP-D) participates in th...\n",
       "3     Endothelin-1 (ET-1) is a 21 amino acid peptide...\n",
       "4     Respiratory syncytial virus (RSV) and pneumoni...\n",
       "...                                                 ...\n",
       "1995  Understanding immune responses elicited by vac...\n",
       "1996  BACKGROUND: Streptococcus pneumoniae is an imp...\n",
       "1997  Cadmium is an environmentally hazardous metal,...\n",
       "1998  High-mobility-group-box chromosomal protein 1 ...\n",
       "1999  Since the re-emergence of Ebola in West Africa...\n",
       "\n",
       "[1914 rows x 1 columns]"
      ]
     },
     "execution_count": 10,
     "metadata": {},
     "output_type": "execute_result"
    }
   ],
   "source": [
    "df1['abstract'] = df1['abstract'].astype(str)\n",
    "df1"
   ]
  },
  {
   "cell_type": "code",
   "execution_count": null,
   "id": "614e7fe6",
   "metadata": {},
   "outputs": [],
   "source": [
    "df1[\"clean_abstract\"] = df1[\"abstract\"].apply(lambda x: lemmatizer(stopword(preprocess(x))))\n",
    "df1"
   ]
  },
  {
   "cell_type": "code",
   "execution_count": null,
   "id": "1ae022cd",
   "metadata": {},
   "outputs": [],
   "source": [
    "import matplotlib as mpl\n",
    "mpl.rcParams['figure.figsize']=(12.0,12.0)  \n",
    "mpl.rcParams['font.size']=12            \n",
    "mpl.rcParams['savefig.dpi']=100             \n",
    "mpl.rcParams['figure.subplot.bottom']=.1 \n",
    "stopwords = set(STOPWORDS)\n",
    "\n",
    "wordcloud = WordCloud(\n",
    "                          background_color='white',\n",
    "                          stopwords=stopwords,\n",
    "                          max_words=500,\n",
    "                          max_font_size=40, \n",
    "                          random_state=42\n",
    "                         ).generate(str(df1['clean_abstract']))\n",
    "\n",
    "print(wordcloud)\n",
    "fig = plt.figure(1)\n",
    "plt.imshow(wordcloud)\n",
    "plt.axis('off')\n",
    "plt.show();"
   ]
  },
  {
   "cell_type": "code",
   "execution_count": null,
   "id": "357dda72",
   "metadata": {},
   "outputs": [],
   "source": [
    "vectorizer = CountVectorizer(stop_words='english')\n",
    "doc_word = vectorizer.fit_transform(df1['clean_abstract'])\n",
    "words = list(np.asarray(vectorizer.get_feature_names()))\n",
    "doc_word.shape"
   ]
  },
  {
   "cell_type": "code",
   "execution_count": null,
   "id": "97943c66",
   "metadata": {},
   "outputs": [],
   "source": [
    "from sklearn.feature_extraction.text import TfidfVectorizer\n",
    "tfidf1 = TfidfVectorizer(ngram_range = (1,2),stop_words='english')\n",
    "doc_word1 = tfidf1.fit_transform(df1['clean_abstract'])\n",
    "doc_word1.shape"
   ]
  },
  {
   "cell_type": "markdown",
   "id": "c84693c3",
   "metadata": {},
   "source": [
    "##   <a name='topic'>Topic Modle:</a>"
   ]
  },
  {
   "cell_type": "markdown",
   "id": "3bd3cabf",
   "metadata": {},
   "source": [
    "## Build LSA Model:"
   ]
  },
  {
   "cell_type": "code",
   "execution_count": 19,
   "id": "ba6a4637",
   "metadata": {},
   "outputs": [],
   "source": [
    "lsa = TruncatedSVD(10)\n",
    "doc_topic = lsa.fit_transform(doc_word)"
   ]
  },
  {
   "cell_type": "code",
   "execution_count": 20,
   "id": "84d664da",
   "metadata": {},
   "outputs": [],
   "source": [
    "def display_topics(model, feature_names, no_top_words, topic_names=None):\n",
    "    for ix, topic in enumerate(model.components_):\n",
    "        if not topic_names or not topic_names[ix]:\n",
    "            print(\"\\nTopic \", ix)\n",
    "        else:\n",
    "            print(\"\\nTopic: '\",topic_names[ix],\"'\")\n",
    "        print(\", \".join([feature_names[i]\n",
    "                        for i in topic.argsort()[:-no_top_words - 1:-1]]))"
   ]
  },
  {
   "cell_type": "code",
   "execution_count": 21,
   "id": "ba5a646c",
   "metadata": {},
   "outputs": [
    {
     "name": "stdout",
     "output_type": "stream",
     "text": [
      "\n",
      "Topic  0\n",
      "virus, cell, infection, influenza, patient, protein, study, disease, viral, human\n",
      "\n",
      "Topic  1\n",
      "cell, protein, virus, expression, viral, mouse, cd, gene, replication, host\n",
      "\n",
      "Topic  2\n",
      "virus, influenza, viral, pandemic, sequence, host, rna, genome, vaccine, human\n",
      "\n",
      "Topic  3\n",
      "influenza, cell, infection, virus, patient, respiratory, lung, pandemic, il, infected\n",
      "\n",
      "Topic  4\n",
      "patient, virus, protein, viral, infection, rna, host, sequence, respiratory, genome\n",
      "\n",
      "Topic  5\n",
      "protein, influenza, pandemic, patient, vaccine, activity, cell, antibody, membrane, epitope\n",
      "\n",
      "Topic  6\n",
      "gene, expression, genome, analysis, influenza, codon, pcr, study, virus, sequence\n",
      "\n",
      "Topic  7\n",
      "gene, infection, il, response, expression, influenza, mouse, ifn, immune, protein\n",
      "\n",
      "Topic  8\n",
      "vaccine, antibody, mouse, response, antigen, specific, epitope, human, immune, vaccination\n",
      "\n",
      "Topic  9\n",
      "health, virus, patient, public, il, disease, level, mouse, group, response\n"
     ]
    }
   ],
   "source": [
    "display_topics(lsa, vectorizer.get_feature_names(), 10)"
   ]
  },
  {
   "cell_type": "markdown",
   "id": "43e3d3f7",
   "metadata": {},
   "source": [
    "## Build NMF Model:"
   ]
  },
  {
   "cell_type": "code",
   "execution_count": 22,
   "id": "e4efa4ba",
   "metadata": {},
   "outputs": [],
   "source": [
    "nmf_model = NMF(10)\n",
    "doc_topic = nmf_model.fit_transform(doc_word)"
   ]
  },
  {
   "cell_type": "code",
   "execution_count": 23,
   "id": "09014746",
   "metadata": {},
   "outputs": [
    {
     "name": "stdout",
     "output_type": "stream",
     "text": [
      "\n",
      "Topic  0\n",
      "cell, cd, expression, lung, mouse, human, induced, epithelial, effect, il\n",
      "\n",
      "Topic  1\n",
      "patient, severe, study, clinical, ards, respiratory, mortality, day, associated, result\n",
      "\n",
      "Topic  2\n",
      "virus, viral, human, host, sequence, rna, genome, replication, strain, infected\n",
      "\n",
      "Topic  3\n",
      "protein, rna, activity, viral, membrane, interaction, identified, domain, cellular, host\n",
      "\n",
      "Topic  4\n",
      "disease, model, data, study, method, case, result, population, infectious, human\n",
      "\n",
      "Topic  5\n",
      "influenza, pandemic, case, year, seasonal, season, vaccination, surveillance, method, data\n",
      "\n",
      "Topic  6\n",
      "gene, expression, analysis, genome, study, rna, result, pcr, sequence, level\n",
      "\n",
      "Topic  7\n",
      "infection, viral, response, ifn, infected, il, host, respiratory, immune, mouse\n",
      "\n",
      "Topic  8\n",
      "vaccine, antibody, response, mouse, hiv, specific, antigen, epitope, immune, vaccination\n",
      "\n",
      "Topic  9\n",
      "health, public, pandemic, risk, review, care, level, community, country, information\n"
     ]
    }
   ],
   "source": [
    "display_topics(nmf_model,vectorizer.get_feature_names(), 10)"
   ]
  },
  {
   "cell_type": "markdown",
   "id": "4517a814",
   "metadata": {},
   "source": [
    "## CorEX Model:"
   ]
  },
  {
   "cell_type": "code",
   "execution_count": 24,
   "id": "e954e149",
   "metadata": {},
   "outputs": [
    {
     "data": {
      "text/plain": [
       "<corextopic.corextopic.Corex at 0x1fa730255b0>"
      ]
     },
     "execution_count": 24,
     "metadata": {},
     "output_type": "execute_result"
    }
   ],
   "source": [
    "from corextopic import corextopic as ct\n",
    "from corextopic import vis_topic as vt\n",
    "topic_model = ct.Corex(n_hidden=5, words=words, seed=1)\n",
    "topic_model.fit(doc_word, words=words, docs= df1.clean_abstract)"
   ]
  },
  {
   "cell_type": "code",
   "execution_count": 25,
   "id": "4607a2bd",
   "metadata": {},
   "outputs": [
    {
     "name": "stdout",
     "output_type": "stream",
     "text": [
      "0: cell,protein,expression,health,method,mouse,cellular,receptor,care,gene\n",
      "1: patient,acute,respiratory,lung,distress,clinical,mortality,injury,inflammation,pulmonary\n",
      "2: sequence,genome,information,transmission,evolutionary,phylogenetic,provide,evolution,specie,infectious\n",
      "3: plasma,derivative,ionization,refractory,livestock,microscopic,tubular,spectrometry,related,flavonoid\n",
      "4: endoplasmic,reticulum,fibroblast,proteolytic,er,pseudoknots,mabs,mab,coated,pseudoknot\n"
     ]
    }
   ],
   "source": [
    "topics = topic_model.get_topics()\n",
    "for n,topic in enumerate(topics):\n",
    "    topic_words,score,score1 = zip(*topic)\n",
    "    print('{}: '.format(n) + ','.join(topic_words))"
   ]
  },
  {
   "cell_type": "code",
   "execution_count": 26,
   "id": "f7ea6bbe",
   "metadata": {},
   "outputs": [
    {
     "data": {
      "text/plain": [
       "[('although first discovered virus previous study identified operational ribosomal frameshifting rf signal eukaryotic genomic sequence suggested role mrna stability four yeast rf signal shown promote significant mrna destabilization nonsense mediated mrna decay pathway nmd genetic evidence presented suggesting may also operate go decay pathway ngd well yeast est mrna highly unstable contains five rf signal ablation rf signal nmd stabilizes mrna change rf efficiency opposing effect steady state abundance est mrna result demonstrate endogenous rf signal function mrna destabilizing element least two molecular pathway yeast consistent current evolutionary theory phylogenetic analysis suggest rf signal rapidly evolving ci acting regulatory element identification high confidence rf signal gene eukaryotic genome surveyed suggests rf broadly used post transcriptional regulator gene expression',\n",
       "  0.0),\n",
       " ('background nucleolar localization sequence nolss short targeting sequence responsible localization protein nucleolus given large number protein experimentally detected nucleolus central role subnuclear compartment cell nolss likely important regulatory element controlling cellular traffic although many protein reported contain nolss systematic characterization group targeting motif recently carried result describe nod web server command line program predicts presence nolss protein using web server user submit protein sequence nod input form provided graphical output nols score function protein position web server convenient making prediction protein command line version nod return prediction complete proteome nod based recently described human trained artificial neural network predictor stringent independent testing predictor using available experimentally validated nols containing eukaryotic viral protein nod sensitivity positive predictive value estimated respectively conclusion nod first tool provide prediction nucleolar localization sequence diverse eukaryote virus nod run interactively online http www compbio dundee ac uk nod downloaded use locally',\n",
       "  0.0)]"
      ]
     },
     "execution_count": 26,
     "metadata": {},
     "output_type": "execute_result"
    }
   ],
   "source": [
    "topic_model.get_top_docs(topic=3, n_docs=2)"
   ]
  },
  {
   "cell_type": "code",
   "execution_count": 27,
   "id": "cf085b96",
   "metadata": {},
   "outputs": [
    {
     "data": {
      "image/png": "[encoded data removed]",
      "text/plain": [
       "<Figure size 720x360 with 1 Axes>"
      ]
     },
     "metadata": {
      "needs_background": "light"
     },
     "output_type": "display_data"
    }
   ],
   "source": [
    "plt.figure(figsize=(10,5))\n",
    "plt.bar(range(topic_model.tcs.shape[0]), topic_model.tcs, color='#4e79a7', width=0.5)\n",
    "plt.xlabel('Topic', fontsize=16)\n",
    "plt.ylabel('Total Correlation (nats)', fontsize=16);"
   ]
  },
  {
   "cell_type": "markdown",
   "id": "d51d6436",
   "metadata": {},
   "source": [
    "## Build LDA model using Sklearn\n"
   ]
  },
  {
   "cell_type": "code",
   "execution_count": 28,
   "id": "52357cb8",
   "metadata": {},
   "outputs": [
    {
     "name": "stdout",
     "output_type": "stream",
     "text": [
      "LatentDirichletAllocation(learning_method='online', n_jobs=-1, random_state=100)\n"
     ]
    }
   ],
   "source": [
    "# Build LDA Model\n",
    "lda_model = LatentDirichletAllocation(n_components=10,               # Number of topics\n",
    "                                      max_iter=10,               # Max learning iterations\n",
    "                                      learning_method='online',   \n",
    "                                      random_state=100,          # Random state\n",
    "                                      batch_size=128,            # n docs in each learning iter\n",
    "                                      evaluate_every = -1,       # compute perplexity every n iters, default: Don't\n",
    "                                      n_jobs = -1,               # Use all available CPUs\n",
    "                                     )\n",
    "lda_output = lda_model.fit_transform(doc_word)\n",
    "\n",
    "print(lda_model)  # Model attributes"
   ]
  },
  {
   "cell_type": "code",
   "execution_count": 29,
   "id": "74d2fd69",
   "metadata": {},
   "outputs": [
    {
     "name": "stdout",
     "output_type": "stream",
     "text": [
      "\n",
      "Topic  0\n",
      "ceacam, dog, ifitm, cpv, cea, canine, cat, shelter, rodent, bat\n",
      "\n",
      "Topic  1\n",
      "bee, combination, csfv, neutrophil, hcc, honey, ppgalnac, rin, vector, elastase\n",
      "\n",
      "Topic  2\n",
      "virus, infection, cell, vaccine, influenza, antibody, mouse, human, viral, response\n",
      "\n",
      "Topic  3\n",
      "sp, hnrnp, amd, surfactant, vacuolation, sftpa, sbv, plant, toxin, difficile\n",
      "\n",
      "Topic  4\n",
      "activity, poultry, delivery, market, effect, plant, uptake, ai, extract, lc\n",
      "\n",
      "Topic  5\n",
      "virus, rna, sequence, protein, viral, genome, gene, structure, dna, specie\n",
      "\n",
      "Topic  6\n",
      "ga, snap, apol, glycyrrhizin, atgus, hip, hbz, gfp, lrtd, exosome\n",
      "\n",
      "Topic  7\n",
      "disease, health, data, method, study, model, population, result, pandemic, influenza\n",
      "\n",
      "Topic  8\n",
      "patient, influenza, infection, respiratory, case, study, clinical, severe, associated, day\n",
      "\n",
      "Topic  9\n",
      "cell, protein, gene, expression, il, response, study, activity, infection, pathway\n"
     ]
    }
   ],
   "source": [
    "display_topics(lda_model, vectorizer.get_feature_names(), 10)"
   ]
  },
  {
   "cell_type": "code",
   "execution_count": 30,
   "id": "1e298299",
   "metadata": {},
   "outputs": [
    {
     "name": "stdout",
     "output_type": "stream",
     "text": [
      "Sparsicity:  0.5107864211617538 %\n"
     ]
    }
   ],
   "source": [
    " #Materialize the sparse data\n",
    "data_dense = doc_word.todense()\n",
    "\n",
    "# Compute Sparsicity = Percentage of Non-Zero cells\n",
    "print(\"Sparsicity: \", ((data_dense > 0).sum()/data_dense.size)*100, \"%\")"
   ]
  },
  {
   "cell_type": "code",
   "execution_count": 31,
   "id": "f19a1906",
   "metadata": {},
   "outputs": [
    {
     "name": "stdout",
     "output_type": "stream",
     "text": [
      "Log Likelihood:  -1989589.7758913008\n",
      "Perplexity:  2907.1108361469805\n",
      "{'batch_size': 128,\n",
      " 'doc_topic_prior': None,\n",
      " 'evaluate_every': -1,\n",
      " 'learning_decay': 0.7,\n",
      " 'learning_method': 'online',\n",
      " 'learning_offset': 10.0,\n",
      " 'max_doc_update_iter': 100,\n",
      " 'max_iter': 10,\n",
      " 'mean_change_tol': 0.001,\n",
      " 'n_components': 10,\n",
      " 'n_jobs': -1,\n",
      " 'perp_tol': 0.1,\n",
      " 'random_state': 100,\n",
      " 'topic_word_prior': None,\n",
      " 'total_samples': 1000000.0,\n",
      " 'verbose': 0}\n"
     ]
    }
   ],
   "source": [
    "# Log Likelyhood: Higher the better\n",
    "print(\"Log Likelihood: \", lda_model.score(doc_word))\n",
    "\n",
    "# Perplexity: Lower the better. Perplexity = exp(-1. * log-likelihood per word)\n",
    "print(\"Perplexity: \", lda_model.perplexity(doc_word))\n",
    "\n",
    "# See model parameters\n",
    "pprint(lda_model.get_params())"
   ]
  },
  {
   "cell_type": "markdown",
   "id": "1886596a",
   "metadata": {},
   "source": [
    "## Tune number of topics and learning decay (controls learning rate) using GridSearchCV"
   ]
  },
  {
   "cell_type": "code",
   "execution_count": 32,
   "id": "947c95c0",
   "metadata": {},
   "outputs": [
    {
     "data": {
      "text/plain": [
       "GridSearchCV(estimator=LatentDirichletAllocation(random_state=10),\n",
       "             param_grid={'learning_decay': [0.5, 0.7, 0.9],\n",
       "                         'n_components': [4, 5, 6, 7, 8, 10]})"
      ]
     },
     "execution_count": 32,
     "metadata": {},
     "output_type": "execute_result"
    }
   ],
   "source": [
    "# Define Search Param\n",
    "search_params = {'n_components': [4,5,6,7,8,10], 'learning_decay': [.5, .7, .9]}\n",
    "\n",
    "# Init the Model\n",
    "lda = LatentDirichletAllocation(random_state =10)\n",
    "\n",
    "# Init Grid Search Class\n",
    "model = GridSearchCV(lda, param_grid=search_params)\n",
    "\n",
    "# Do the Grid Search\n",
    "model.fit(doc_word)"
   ]
  },
  {
   "cell_type": "code",
   "execution_count": 33,
   "id": "f4d66aae",
   "metadata": {},
   "outputs": [
    {
     "name": "stdout",
     "output_type": "stream",
     "text": [
      "Best Model's Params:  {'learning_decay': 0.5, 'n_components': 4}\n",
      "Best Log Likelihood Score:  -466996.325139888\n",
      "Model Perplexity:  3235.6511338709647\n"
     ]
    }
   ],
   "source": [
    "# Best Model\n",
    "best_lda_model = model.best_estimator_\n",
    "\n",
    "# Model Parameters\n",
    "print(\"Best Model's Params: \", model.best_params_)\n",
    "\n",
    "# Log Likelihood Score\n",
    "print(\"Best Log Likelihood Score: \", model.best_score_)\n",
    "\n",
    "# Perplexity\n",
    "print(\"Model Perplexity: \", best_lda_model.perplexity(doc_word))"
   ]
  },
  {
   "cell_type": "code",
   "execution_count": 34,
   "id": "de3f90b1",
   "metadata": {},
   "outputs": [
    {
     "name": "stdout",
     "output_type": "stream",
     "text": [
      "\n",
      "Topic  0\n",
      "disease, health, influenza, data, model, study, pandemic, method, result, population, risk, case, public, outbreak, transmission, epidemic, used, contact, infectious, based\n",
      "\n",
      "Topic  1\n",
      "virus, protein, cell, gene, viral, infection, human, rna, host, expression, antibody, study, sequence, response, genome, replication, type, specific, using, activity\n",
      "\n",
      "Topic  2\n",
      "patient, cell, infection, influenza, virus, study, disease, respiratory, associated, result, lung, mouse, response, clinical, case, il, level, severe, acute, day\n",
      "\n",
      "Topic  3\n",
      "method, pcr, assay, detection, sample, virus, using, dna, study, used, result, clinical, test, time, based, rt, pathogen, acid, specie, high\n"
     ]
    }
   ],
   "source": [
    "display_topics(best_lda_model, vectorizer.get_feature_names(), 20)"
   ]
  },
  {
   "cell_type": "markdown",
   "id": "7cfcbc05",
   "metadata": {},
   "source": [
    "## View the dominant topic probability in each document"
   ]
  },
  {
   "cell_type": "code",
   "execution_count": 35,
   "id": "a41a22c0",
   "metadata": {},
   "outputs": [
    {
     "data": {
      "text/html": [
       "<style  type=\"text/css\" >\n",
       "#T_f1a2d_row0_col0,#T_f1a2d_row0_col1,#T_f1a2d_row0_col3,#T_f1a2d_row1_col0,#T_f1a2d_row1_col3,#T_f1a2d_row2_col0,#T_f1a2d_row2_col3,#T_f1a2d_row3_col0,#T_f1a2d_row3_col3,#T_f1a2d_row4_col0,#T_f1a2d_row4_col3,#T_f1a2d_row5_col2,#T_f1a2d_row5_col3,#T_f1a2d_row6_col0,#T_f1a2d_row6_col1,#T_f1a2d_row6_col3,#T_f1a2d_row7_col1,#T_f1a2d_row8_col0,#T_f1a2d_row8_col3,#T_f1a2d_row9_col1,#T_f1a2d_row9_col2,#T_f1a2d_row9_col3,#T_f1a2d_row9_col4,#T_f1a2d_row10_col0,#T_f1a2d_row10_col2,#T_f1a2d_row10_col3,#T_f1a2d_row11_col2,#T_f1a2d_row11_col3,#T_f1a2d_row12_col0,#T_f1a2d_row12_col2,#T_f1a2d_row12_col3,#T_f1a2d_row13_col0,#T_f1a2d_row13_col2,#T_f1a2d_row13_col3,#T_f1a2d_row14_col2{\n",
       "            color:  black;\n",
       "            font-weight:  400;\n",
       "        }#T_f1a2d_row0_col2,#T_f1a2d_row0_col4,#T_f1a2d_row1_col1,#T_f1a2d_row1_col2,#T_f1a2d_row1_col4,#T_f1a2d_row2_col1,#T_f1a2d_row2_col2,#T_f1a2d_row2_col4,#T_f1a2d_row3_col1,#T_f1a2d_row3_col2,#T_f1a2d_row3_col4,#T_f1a2d_row4_col1,#T_f1a2d_row4_col2,#T_f1a2d_row4_col4,#T_f1a2d_row5_col0,#T_f1a2d_row5_col1,#T_f1a2d_row5_col4,#T_f1a2d_row6_col2,#T_f1a2d_row6_col4,#T_f1a2d_row7_col0,#T_f1a2d_row7_col2,#T_f1a2d_row7_col3,#T_f1a2d_row7_col4,#T_f1a2d_row8_col1,#T_f1a2d_row8_col2,#T_f1a2d_row8_col4,#T_f1a2d_row9_col0,#T_f1a2d_row10_col1,#T_f1a2d_row10_col4,#T_f1a2d_row11_col0,#T_f1a2d_row11_col1,#T_f1a2d_row11_col4,#T_f1a2d_row12_col1,#T_f1a2d_row12_col4,#T_f1a2d_row13_col1,#T_f1a2d_row13_col4,#T_f1a2d_row14_col0,#T_f1a2d_row14_col1,#T_f1a2d_row14_col3,#T_f1a2d_row14_col4{\n",
       "            color:  green;\n",
       "            font-weight:  700;\n",
       "        }</style><table id=\"T_f1a2d_\" ><thead>    <tr>        <th class=\"blank level0\" ></th>        <th class=\"col_heading level0 col0\" >Topic0</th>        <th class=\"col_heading level0 col1\" >Topic1</th>        <th class=\"col_heading level0 col2\" >Topic2</th>        <th class=\"col_heading level0 col3\" >Topic3</th>        <th class=\"col_heading level0 col4\" >dominant_topic</th>    </tr></thead><tbody>\n",
       "                <tr>\n",
       "                        <th id=\"T_f1a2d_level0_row0\" class=\"row_heading level0 row0\" >Doc0</th>\n",
       "                        <td id=\"T_f1a2d_row0_col0\" class=\"data row0 col0\" >0.000000</td>\n",
       "                        <td id=\"T_f1a2d_row0_col1\" class=\"data row0 col1\" >0.000000</td>\n",
       "                        <td id=\"T_f1a2d_row0_col2\" class=\"data row0 col2\" >0.990000</td>\n",
       "                        <td id=\"T_f1a2d_row0_col3\" class=\"data row0 col3\" >0.000000</td>\n",
       "                        <td id=\"T_f1a2d_row0_col4\" class=\"data row0 col4\" >2</td>\n",
       "            </tr>\n",
       "            <tr>\n",
       "                        <th id=\"T_f1a2d_level0_row1\" class=\"row_heading level0 row1\" >Doc1</th>\n",
       "                        <td id=\"T_f1a2d_row1_col0\" class=\"data row1 col0\" >0.060000</td>\n",
       "                        <td id=\"T_f1a2d_row1_col1\" class=\"data row1 col1\" >0.260000</td>\n",
       "                        <td id=\"T_f1a2d_row1_col2\" class=\"data row1 col2\" >0.680000</td>\n",
       "                        <td id=\"T_f1a2d_row1_col3\" class=\"data row1 col3\" >0.000000</td>\n",
       "                        <td id=\"T_f1a2d_row1_col4\" class=\"data row1 col4\" >2</td>\n",
       "            </tr>\n",
       "            <tr>\n",
       "                        <th id=\"T_f1a2d_level0_row2\" class=\"row_heading level0 row2\" >Doc2</th>\n",
       "                        <td id=\"T_f1a2d_row2_col0\" class=\"data row2 col0\" >0.000000</td>\n",
       "                        <td id=\"T_f1a2d_row2_col1\" class=\"data row2 col1\" >0.580000</td>\n",
       "                        <td id=\"T_f1a2d_row2_col2\" class=\"data row2 col2\" >0.410000</td>\n",
       "                        <td id=\"T_f1a2d_row2_col3\" class=\"data row2 col3\" >0.000000</td>\n",
       "                        <td id=\"T_f1a2d_row2_col4\" class=\"data row2 col4\" >1</td>\n",
       "            </tr>\n",
       "            <tr>\n",
       "                        <th id=\"T_f1a2d_level0_row3\" class=\"row_heading level0 row3\" >Doc3</th>\n",
       "                        <td id=\"T_f1a2d_row3_col0\" class=\"data row3 col0\" >0.010000</td>\n",
       "                        <td id=\"T_f1a2d_row3_col1\" class=\"data row3 col1\" >0.370000</td>\n",
       "                        <td id=\"T_f1a2d_row3_col2\" class=\"data row3 col2\" >0.620000</td>\n",
       "                        <td id=\"T_f1a2d_row3_col3\" class=\"data row3 col3\" >0.010000</td>\n",
       "                        <td id=\"T_f1a2d_row3_col4\" class=\"data row3 col4\" >2</td>\n",
       "            </tr>\n",
       "            <tr>\n",
       "                        <th id=\"T_f1a2d_level0_row4\" class=\"row_heading level0 row4\" >Doc4</th>\n",
       "                        <td id=\"T_f1a2d_row4_col0\" class=\"data row4 col0\" >0.000000</td>\n",
       "                        <td id=\"T_f1a2d_row4_col1\" class=\"data row4 col1\" >0.700000</td>\n",
       "                        <td id=\"T_f1a2d_row4_col2\" class=\"data row4 col2\" >0.300000</td>\n",
       "                        <td id=\"T_f1a2d_row4_col3\" class=\"data row4 col3\" >0.000000</td>\n",
       "                        <td id=\"T_f1a2d_row4_col4\" class=\"data row4 col4\" >1</td>\n",
       "            </tr>\n",
       "            <tr>\n",
       "                        <th id=\"T_f1a2d_level0_row5\" class=\"row_heading level0 row5\" >Doc5</th>\n",
       "                        <td id=\"T_f1a2d_row5_col0\" class=\"data row5 col0\" >0.230000</td>\n",
       "                        <td id=\"T_f1a2d_row5_col1\" class=\"data row5 col1\" >0.760000</td>\n",
       "                        <td id=\"T_f1a2d_row5_col2\" class=\"data row5 col2\" >0.000000</td>\n",
       "                        <td id=\"T_f1a2d_row5_col3\" class=\"data row5 col3\" >0.000000</td>\n",
       "                        <td id=\"T_f1a2d_row5_col4\" class=\"data row5 col4\" >1</td>\n",
       "            </tr>\n",
       "            <tr>\n",
       "                        <th id=\"T_f1a2d_level0_row6\" class=\"row_heading level0 row6\" >Doc6</th>\n",
       "                        <td id=\"T_f1a2d_row6_col0\" class=\"data row6 col0\" >0.030000</td>\n",
       "                        <td id=\"T_f1a2d_row6_col1\" class=\"data row6 col1\" >0.000000</td>\n",
       "                        <td id=\"T_f1a2d_row6_col2\" class=\"data row6 col2\" >0.960000</td>\n",
       "                        <td id=\"T_f1a2d_row6_col3\" class=\"data row6 col3\" >0.000000</td>\n",
       "                        <td id=\"T_f1a2d_row6_col4\" class=\"data row6 col4\" >2</td>\n",
       "            </tr>\n",
       "            <tr>\n",
       "                        <th id=\"T_f1a2d_level0_row7\" class=\"row_heading level0 row7\" >Doc7</th>\n",
       "                        <td id=\"T_f1a2d_row7_col0\" class=\"data row7 col0\" >0.330000</td>\n",
       "                        <td id=\"T_f1a2d_row7_col1\" class=\"data row7 col1\" >0.000000</td>\n",
       "                        <td id=\"T_f1a2d_row7_col2\" class=\"data row7 col2\" >0.540000</td>\n",
       "                        <td id=\"T_f1a2d_row7_col3\" class=\"data row7 col3\" >0.130000</td>\n",
       "                        <td id=\"T_f1a2d_row7_col4\" class=\"data row7 col4\" >2</td>\n",
       "            </tr>\n",
       "            <tr>\n",
       "                        <th id=\"T_f1a2d_level0_row8\" class=\"row_heading level0 row8\" >Doc8</th>\n",
       "                        <td id=\"T_f1a2d_row8_col0\" class=\"data row8 col0\" >0.000000</td>\n",
       "                        <td id=\"T_f1a2d_row8_col1\" class=\"data row8 col1\" >0.160000</td>\n",
       "                        <td id=\"T_f1a2d_row8_col2\" class=\"data row8 col2\" >0.830000</td>\n",
       "                        <td id=\"T_f1a2d_row8_col3\" class=\"data row8 col3\" >0.000000</td>\n",
       "                        <td id=\"T_f1a2d_row8_col4\" class=\"data row8 col4\" >2</td>\n",
       "            </tr>\n",
       "            <tr>\n",
       "                        <th id=\"T_f1a2d_level0_row9\" class=\"row_heading level0 row9\" >Doc9</th>\n",
       "                        <td id=\"T_f1a2d_row9_col0\" class=\"data row9 col0\" >0.990000</td>\n",
       "                        <td id=\"T_f1a2d_row9_col1\" class=\"data row9 col1\" >0.000000</td>\n",
       "                        <td id=\"T_f1a2d_row9_col2\" class=\"data row9 col2\" >0.000000</td>\n",
       "                        <td id=\"T_f1a2d_row9_col3\" class=\"data row9 col3\" >0.000000</td>\n",
       "                        <td id=\"T_f1a2d_row9_col4\" class=\"data row9 col4\" >0</td>\n",
       "            </tr>\n",
       "            <tr>\n",
       "                        <th id=\"T_f1a2d_level0_row10\" class=\"row_heading level0 row10\" >Doc10</th>\n",
       "                        <td id=\"T_f1a2d_row10_col0\" class=\"data row10 col0\" >0.000000</td>\n",
       "                        <td id=\"T_f1a2d_row10_col1\" class=\"data row10 col1\" >0.990000</td>\n",
       "                        <td id=\"T_f1a2d_row10_col2\" class=\"data row10 col2\" >0.000000</td>\n",
       "                        <td id=\"T_f1a2d_row10_col3\" class=\"data row10 col3\" >0.000000</td>\n",
       "                        <td id=\"T_f1a2d_row10_col4\" class=\"data row10 col4\" >1</td>\n",
       "            </tr>\n",
       "            <tr>\n",
       "                        <th id=\"T_f1a2d_level0_row11\" class=\"row_heading level0 row11\" >Doc11</th>\n",
       "                        <td id=\"T_f1a2d_row11_col0\" class=\"data row11 col0\" >0.110000</td>\n",
       "                        <td id=\"T_f1a2d_row11_col1\" class=\"data row11 col1\" >0.880000</td>\n",
       "                        <td id=\"T_f1a2d_row11_col2\" class=\"data row11 col2\" >0.000000</td>\n",
       "                        <td id=\"T_f1a2d_row11_col3\" class=\"data row11 col3\" >0.000000</td>\n",
       "                        <td id=\"T_f1a2d_row11_col4\" class=\"data row11 col4\" >1</td>\n",
       "            </tr>\n",
       "            <tr>\n",
       "                        <th id=\"T_f1a2d_level0_row12\" class=\"row_heading level0 row12\" >Doc12</th>\n",
       "                        <td id=\"T_f1a2d_row12_col0\" class=\"data row12 col0\" >0.000000</td>\n",
       "                        <td id=\"T_f1a2d_row12_col1\" class=\"data row12 col1\" >0.990000</td>\n",
       "                        <td id=\"T_f1a2d_row12_col2\" class=\"data row12 col2\" >0.000000</td>\n",
       "                        <td id=\"T_f1a2d_row12_col3\" class=\"data row12 col3\" >0.000000</td>\n",
       "                        <td id=\"T_f1a2d_row12_col4\" class=\"data row12 col4\" >1</td>\n",
       "            </tr>\n",
       "            <tr>\n",
       "                        <th id=\"T_f1a2d_level0_row13\" class=\"row_heading level0 row13\" >Doc13</th>\n",
       "                        <td id=\"T_f1a2d_row13_col0\" class=\"data row13 col0\" >0.000000</td>\n",
       "                        <td id=\"T_f1a2d_row13_col1\" class=\"data row13 col1\" >0.990000</td>\n",
       "                        <td id=\"T_f1a2d_row13_col2\" class=\"data row13 col2\" >0.000000</td>\n",
       "                        <td id=\"T_f1a2d_row13_col3\" class=\"data row13 col3\" >0.000000</td>\n",
       "                        <td id=\"T_f1a2d_row13_col4\" class=\"data row13 col4\" >1</td>\n",
       "            </tr>\n",
       "            <tr>\n",
       "                        <th id=\"T_f1a2d_level0_row14\" class=\"row_heading level0 row14\" >Doc14</th>\n",
       "                        <td id=\"T_f1a2d_row14_col0\" class=\"data row14 col0\" >0.160000</td>\n",
       "                        <td id=\"T_f1a2d_row14_col1\" class=\"data row14 col1\" >0.470000</td>\n",
       "                        <td id=\"T_f1a2d_row14_col2\" class=\"data row14 col2\" >0.060000</td>\n",
       "                        <td id=\"T_f1a2d_row14_col3\" class=\"data row14 col3\" >0.310000</td>\n",
       "                        <td id=\"T_f1a2d_row14_col4\" class=\"data row14 col4\" >1</td>\n",
       "            </tr>\n",
       "    </tbody></table>"
      ],
      "text/plain": [
       "<pandas.io.formats.style.Styler at 0x1fa74a48fa0>"
      ]
     },
     "execution_count": 35,
     "metadata": {},
     "output_type": "execute_result"
    }
   ],
   "source": [
    "# Create Document - Topic Matrix\n",
    "lda_output = best_lda_model.transform(doc_word)\n",
    "\n",
    "# column names\n",
    "topicnames = [\"Topic\" + str(i) for i in range(best_lda_model.n_components)]\n",
    "\n",
    "# index names\n",
    "docnames = [\"Doc\" + str(i) for i in range(len(df1))]\n",
    "\n",
    "# Make the pandas dataframe\n",
    "df_document_topic = pd.DataFrame(np.round(lda_output, 2), columns=topicnames, index=docnames)\n",
    "\n",
    "# Get dominant topic for each document\n",
    "dominant_topic = np.argmax(df_document_topic.values, axis=1)\n",
    "df_document_topic['dominant_topic'] = dominant_topic\n",
    "\n",
    "# Styling\n",
    "def color_green(val):\n",
    "    color = 'green' if val > .1 else 'black'\n",
    "    return 'color: {col}'.format(col=color)\n",
    "\n",
    "def make_bold(val):\n",
    "    weight = 700 if val > .1 else 400\n",
    "    return 'font-weight: {weight}'.format(weight=weight)\n",
    "\n",
    "# Apply Style\n",
    "df_document_topics = df_document_topic.head(15).style.applymap(color_green).applymap(make_bold)\n",
    "df_document_topics"
   ]
  },
  {
   "cell_type": "markdown",
   "id": "f1ed6903",
   "metadata": {},
   "source": [
    "## Topic - doc distribution"
   ]
  },
  {
   "cell_type": "code",
   "execution_count": 36,
   "id": "684e2256",
   "metadata": {},
   "outputs": [
    {
     "data": {
      "text/html": [
       "<div>\n",
       "<style scoped>\n",
       "    .dataframe tbody tr th:only-of-type {\n",
       "        vertical-align: middle;\n",
       "    }\n",
       "\n",
       "    .dataframe tbody tr th {\n",
       "        vertical-align: top;\n",
       "    }\n",
       "\n",
       "    .dataframe thead th {\n",
       "        text-align: right;\n",
       "    }\n",
       "</style>\n",
       "<table border=\"1\" class=\"dataframe\">\n",
       "  <thead>\n",
       "    <tr style=\"text-align: right;\">\n",
       "      <th></th>\n",
       "      <th>Topic Num</th>\n",
       "      <th>Num Documents</th>\n",
       "    </tr>\n",
       "  </thead>\n",
       "  <tbody>\n",
       "    <tr>\n",
       "      <th>0</th>\n",
       "      <td>1</td>\n",
       "      <td>717</td>\n",
       "    </tr>\n",
       "    <tr>\n",
       "      <th>1</th>\n",
       "      <td>2</td>\n",
       "      <td>562</td>\n",
       "    </tr>\n",
       "    <tr>\n",
       "      <th>2</th>\n",
       "      <td>0</td>\n",
       "      <td>476</td>\n",
       "    </tr>\n",
       "    <tr>\n",
       "      <th>3</th>\n",
       "      <td>3</td>\n",
       "      <td>159</td>\n",
       "    </tr>\n",
       "  </tbody>\n",
       "</table>\n",
       "</div>"
      ],
      "text/plain": [
       "   Topic Num  Num Documents\n",
       "0          1            717\n",
       "1          2            562\n",
       "2          0            476\n",
       "3          3            159"
      ]
     },
     "execution_count": 36,
     "metadata": {},
     "output_type": "execute_result"
    }
   ],
   "source": [
    "df_topic_distribution = df_document_topic['dominant_topic'].value_counts().reset_index(name=\"Num Documents\")\n",
    "df_topic_distribution.columns = ['Topic Num', 'Num Documents']\n",
    "df_topic_distribution"
   ]
  },
  {
   "cell_type": "code",
   "execution_count": 37,
   "id": "8d3054ec",
   "metadata": {},
   "outputs": [
    {
     "name": "stdout",
     "output_type": "stream",
     "text": [
      "[717 562 476 159]\n"
     ]
    },
    {
     "data": {
      "image/png": "[encoded data removed]",
      "text/plain": [
       "<Figure size 720x360 with 1 Axes>"
      ]
     },
     "metadata": {
      "needs_background": "light"
     },
     "output_type": "display_data"
    }
   ],
   "source": [
    "plt.figure(figsize=(10,5))\n",
    "values_column = df_topic_distribution.loc[:,'Num Documents']\n",
    "values = values_column.values\n",
    "print(values)\n",
    "\n",
    "sns.barplot(x=df_topic_distribution['Topic Num'], y=df_topic_distribution['Num Documents'], palette = sns.color_palette('Accent'))\n",
    "plt.title('Topic - doc distribution',family='serif',fontsize = 20,loc='center',color='b')\n",
    "plt.show()"
   ]
  },
  {
   "cell_type": "markdown",
   "id": "d962dd39",
   "metadata": {},
   "source": [
    "## Visualize the top words per topic (their overall frequency in the original doc vs their frequency in the topic) \n"
   ]
  },
  {
   "cell_type": "code",
   "execution_count": 38,
   "id": "50e73134",
   "metadata": {},
   "outputs": [
    {
     "data": {
      "text/html": [
       "\n",
       "<link rel=\"stylesheet\" type=\"text/css\" href=\"https://cdn.jsdelivr.net/gh/bmabey/pyLDAvis@3.3.1/pyLDAvis/js/ldavis.v1.0.0.css\">\n",
       "\n",
       "\n",
       "<div id=\"ldavis_el1843621752121330567286435741\"></div>\n",
       "<script type=\"text/javascript\">\n",
       "\n",
       "var ldavis_el1843621752121330567286435741_data = {\"mdsDat\": {\"x\": [269.5624084472656, 1.782994270324707, 220.81143188476562, 50.533992767333984], \"y\": [-124.80339813232422, -295.0796813964844, -343.8321228027344, -76.05093383789062], \"topics\": [1, 2, 3, 4], \"cluster\": [1, 1, 1, 1], \"Freq\": [34.41632683554248, 31.510100871866005, 25.59378962151039, 8.479782671081132]}, \"tinfo\": {\"Term\": [\"patient\", \"protein\", \"cell\", \"health\", \"influenza\", \"method\", \"gene\", \"assay\", \"pcr\", \"lung\", \"pandemic\", \"dna\", \"il\", \"virus\", \"detection\", \"clinical\", \"public\", \"sample\", \"respiratory\", \"rna\", \"mouse\", \"outbreak\", \"data\", \"expression\", \"using\", \"acute\", \"contact\", \"used\", \"viral\", \"specie\", \"gp\", \"denv\", \"prrsv\", \"recombination\", \"ceacam\", \"envelope\", \"mutant\", \"orf\", \"mabs\", \"bat\", \"mammalian\", \"capsid\", \"vsv\", \"ire\", \"vlps\", \"reporter\", \"strand\", \"cytoplasmic\", \"pprv\", \"cea\", \"cpv\", \"eukaryotic\", \"insect\", \"vp\", \"flavivirus\", \"pkr\", \"frameshift\", \"env\", \"hpv\", \"divergent\", \"epitope\", \"glycoprotein\", \"residue\", \"gag\", \"bind\", \"lineage\", \"protein\", \"segment\", \"binding\", \"stat\", \"recombinant\", \"gene\", \"conserved\", \"rna\", \"replication\", \"domain\", \"cellular\", \"genome\", \"peptide\", \"translation\", \"host\", \"pathway\", \"viral\", \"antibody\", \"virus\", \"entry\", \"fusion\", \"cell\", \"site\", \"expression\", \"sequence\", \"membrane\", \"receptor\", \"type\", \"human\", \"mutation\", \"function\", \"target\", \"interaction\", \"mechanism\", \"specific\", \"infection\", \"activity\", \"role\", \"response\", \"using\", \"study\", \"strain\", \"analysis\", \"vaccine\", \"result\", \"disease\", \"ards\", \"icu\", \"sepsis\", \"admission\", \"il\", \"ventilation\", \"distress\", \"tnf\", \"lp\", \"ecmo\", \"ifitm\", \"ill\", \"ali\", \"tgf\", \"pneumonia\", \"cns\", \"ili\", \"hospitalized\", \"admitted\", \"survivor\", \"pediatric\", \"transplant\", \"septic\", \"oxygenation\", \"nk\", \"demyelination\", \"microglia\", \"pulmonary\", \"hmgb\", \"pbmcs\", \"lung\", \"inflammation\", \"alveolar\", \"patient\", \"injury\", \"asthma\", \"acute\", \"failure\", \"cytokine\", \"severe\", \"respiratory\", \"mortality\", \"day\", \"inflammatory\", \"severity\", \"child\", \"survival\", \"death\", \"outcome\", \"cd\", \"therapy\", \"clinical\", \"mouse\", \"infection\", \"treatment\", \"associated\", \"influenza\", \"cell\", \"ci\", \"group\", \"case\", \"level\", \"study\", \"response\", \"conclusion\", \"year\", \"result\", \"virus\", \"disease\", \"induced\", \"factor\", \"method\", \"human\", \"social\", \"public\", \"preparedness\", \"household\", \"perception\", \"scenario\", \"plan\", \"perceived\", \"disaster\", \"pseudoknot\", \"expert\", \"distancing\", \"hong\", \"policy\", \"kong\", \"message\", \"respondent\", \"climate\", \"pseudoknots\", \"professional\", \"usage\", \"ethical\", \"school\", \"contact\", \"sars\", \"investment\", \"sector\", \"describing\", \"internet\", \"education\", \"health\", \"planning\", \"wildlife\", \"government\", \"outbreak\", \"epidemic\", \"estimate\", \"spatial\", \"surveillance\", \"country\", \"healthcare\", \"intervention\", \"reproduction\", \"information\", \"pandemic\", \"spread\", \"transmission\", \"measure\", \"population\", \"decision\", \"data\", \"international\", \"travel\", \"china\", \"model\", \"risk\", \"paper\", \"global\", \"community\", \"influenza\", \"disease\", \"infectious\", \"research\", \"network\", \"number\", \"method\", \"case\", \"study\", \"result\", \"based\", \"used\", \"individual\", \"control\", \"analysis\", \"time\", \"using\", \"human\", \"conclusion\", \"pedv\", \"uri\", \"faecium\", \"atgus\", \"optimism\", \"oa\", \"mscl\", \"sbv\", \"rpa\", \"vacuolation\", \"pacific\", \"papg\", \"assignment\", \"honey\", \"vd\", \"lrtd\", \"probiotic\", \"quercetin\", \"lnes\", \"lyc\", \"prohnp\", \"csn\", \"hts\", \"isothermal\", \"ups\", \"lycorine\", \"af\", \"ggt\", \"ttf\", \"pessimism\", \"lamp\", \"amplification\", \"liposome\", \"piglet\", \"apc\", \"hybridization\", \"id\", \"rt\", \"copd\", \"sensitivity\", \"detection\", \"probe\", \"pcr\", \"nucleic\", \"metric\", \"assay\", \"test\", \"extract\", \"sample\", \"device\", \"dna\", \"diagnostic\", \"reaction\", \"rapid\", \"method\", \"specificity\", \"pig\", \"real\", \"using\", \"used\", \"acid\", \"clinical\", \"time\", \"specie\", \"detected\", \"based\", \"study\", \"drug\", \"result\", \"pathogen\", \"virus\", \"diagnosis\", \"high\", \"analysis\", \"sequence\", \"target\"], \"Freq\": [1361.0, 1414.0, 2152.0, 642.0, 1290.0, 797.0, 909.0, 351.0, 270.0, 407.0, 496.0, 315.0, 339.0, 2274.0, 225.0, 507.0, 274.0, 338.0, 480.0, 548.0, 577.0, 291.0, 725.0, 628.0, 713.0, 354.0, 218.0, 570.0, 972.0, 280.0, 127.89991784565714, 88.3252029969353, 81.54180815246745, 68.9709970716833, 68.00752624146925, 66.99606058514323, 97.57316208359094, 59.26382415801208, 56.38346140654606, 60.17272627352951, 80.11346237726138, 48.63105986437889, 44.77076224764912, 42.83689037743311, 41.8698353551756, 38.9495308777526, 36.98900710906285, 36.03278199025854, 33.13943055263091, 32.19037641848602, 32.187041328974516, 41.64946365118484, 31.182660924542695, 79.2780631707198, 38.72720765855308, 28.312862591179684, 28.312201541010182, 32.07950958721212, 27.348619303026794, 27.3366492605619, 199.74213194634362, 90.37290910786605, 124.1681769959039, 47.01253358129665, 68.96295379046802, 59.81144321283096, 1259.3974598150746, 73.23144231834843, 277.1351073228212, 54.219773319002314, 152.20034020973492, 775.4019980045751, 108.96235497638968, 471.00019829416675, 309.3181188032111, 209.22346316599905, 238.82966684864655, 331.7075459756907, 223.45397780151544, 93.10253534122191, 458.05195309830816, 234.58733158373096, 694.4037798251587, 375.4611842701693, 1427.9236304778794, 113.86217782821518, 97.39792050951704, 1182.99415057261, 206.78332388584286, 418.38405173424394, 342.6327639592618, 182.63883376146518, 232.98700053806854, 305.6341063489174, 542.9517303559821, 155.28463285821488, 227.6794980334373, 212.60182010766042, 217.26318562426334, 234.79299564370356, 299.24623089166147, 562.8142975456334, 283.2937297257396, 272.5347373206518, 338.28652552183144, 295.5250264412252, 366.8781541076623, 233.33872789555906, 262.26807498167295, 248.21192986362914, 264.8051267767056, 247.3981428094096, 161.50511694799158, 137.40487998604144, 116.99272147269059, 106.81791362541968, 336.6585589337346, 83.64497275765544, 83.6423087056938, 82.71572071274018, 80.85873441987377, 66.03733915812195, 66.93571528518216, 63.243903843201075, 60.468164607931875, 55.83332088680405, 211.2213567568838, 54.90689719996498, 59.480962069494716, 67.69587115750015, 63.08544078335579, 49.26185433909173, 42.852229616302346, 37.29223135151935, 36.3768900906626, 35.449211908041306, 49.09168020867524, 34.523018174346426, 33.59212437305875, 118.04370635256072, 32.65816841020638, 32.649850213929504, 396.6700532425347, 134.83258819663425, 70.318885868045, 1282.4623388568925, 139.23123288900763, 67.01065674459056, 321.77452717156945, 114.52380262259364, 186.009331295861, 322.4836895734521, 420.9989778332376, 285.48030805848447, 312.97246455043796, 198.10555401083712, 123.4309009475769, 222.2652341181622, 115.8489087253391, 189.9205025878731, 159.8437855759868, 261.16713507524787, 185.6116479947205, 349.4530617953605, 384.0962628839601, 853.8343404497293, 312.964334360055, 404.87830938089934, 656.8753300567092, 953.075199735994, 173.1095685327504, 269.4419972688503, 340.3348061008254, 328.2646658553672, 500.4313034124155, 363.476505872144, 296.9813573274971, 236.01765590467252, 403.71774359147895, 575.1448705509837, 437.81770169944235, 224.3912720785312, 238.06287839607853, 233.05153894718563, 232.59980525345932, 114.04886973974062, 271.9040530617879, 63.24524911264212, 51.903507428016844, 45.383705351701344, 42.55283619168646, 40.65748956368025, 35.97723079975386, 35.040853002723985, 33.128389064869125, 36.77646867903117, 30.33739039662363, 42.2667940583475, 66.0425477701071, 41.29687911122416, 25.63299526467129, 25.62771833377765, 31.124140860851753, 24.659283401813465, 23.740355861766243, 88.56460411603894, 21.861987118832516, 51.01044482197315, 211.22970235416355, 23.66540202012993, 21.825503610645043, 19.985324395841275, 26.348311428934956, 19.04553596874088, 19.044973371890045, 608.7396688625723, 44.426846392768155, 37.07630493546567, 39.576314269349076, 266.5249782898372, 233.74777541352466, 89.43114186985119, 77.06767695269204, 200.44834252760603, 183.3191917031604, 56.489853979686856, 128.2833485640848, 48.52941750597274, 193.78950444245638, 376.5157244939067, 153.958930323805, 242.673895690126, 129.03566536977536, 295.95624343983343, 57.6109766657789, 469.7966828961183, 59.17456718688355, 62.83988739060543, 119.70564102416695, 400.91825281223765, 282.01964962577, 94.60892385705795, 106.09492362658756, 117.46812207870164, 599.222367822594, 609.0968141647013, 209.41743561992868, 170.13521698854026, 130.74806307706834, 208.32512182158052, 322.3664658636403, 281.4162885904062, 381.49945856539773, 308.72357084420287, 208.86616243400928, 213.19965697287466, 153.68349264464297, 187.91453747368837, 204.523703819771, 180.28733775741384, 191.82271254138556, 206.62740690116573, 180.16310246282896, 37.01669145898302, 21.116950170183927, 16.9306130222643, 15.269124755129855, 15.256545541252873, 12.758792869612376, 12.756229011557023, 12.752108929606779, 13.539847355042793, 11.910325401551788, 12.674080559731225, 11.083357556074715, 11.068998193671426, 13.4203770865835, 10.248602180838603, 10.245223669019945, 10.243955652046253, 10.238034151912313, 9.412544534977329, 9.412544534977329, 9.41181861362113, 9.407858175702902, 9.399051815051932, 21.936305832826612, 9.382628000858142, 8.575808193290014, 8.575797235313084, 8.573327178243206, 8.56931314537129, 8.562391993087488, 29.47656308211176, 55.95394510277756, 28.845187835438537, 34.106917976792936, 19.324028191169194, 26.570271185120674, 16.032801085969727, 76.51826554608016, 24.824444048300133, 63.01016779566933, 125.80011902743232, 39.333047725772104, 138.25653853700575, 35.16014670862631, 19.89213636011657, 134.70849210941003, 83.48223520844545, 35.08343207074746, 114.44487314041554, 22.89291179842882, 104.686693528564, 46.75931136386927, 53.58443748873163, 50.15281609381485, 156.44348970948909, 42.00815739799901, 40.30526092301638, 45.836100339307706, 105.23075376253486, 93.74314664215719, 64.22899416005879, 84.45089675545935, 82.96638260640353, 64.16499832044458, 57.91058548611072, 76.83445602631079, 100.89540467516147, 58.16105681165646, 88.46162483579991, 65.29569894591161, 105.67511374158946, 52.35302779689166, 63.66464612671027, 58.25491311435472, 48.69781422616443, 47.692297479285465], \"Total\": [1361.0, 1414.0, 2152.0, 642.0, 1290.0, 797.0, 909.0, 351.0, 270.0, 407.0, 496.0, 315.0, 339.0, 2274.0, 225.0, 507.0, 274.0, 338.0, 480.0, 548.0, 577.0, 291.0, 725.0, 628.0, 713.0, 354.0, 218.0, 570.0, 972.0, 280.0, 128.70645660121198, 89.01634497305959, 82.23847508571676, 69.65484156514462, 68.68717547814954, 67.71714125346217, 98.68126747560817, 59.973124498430025, 57.069286718680935, 60.93905358919529, 81.25361748085182, 49.32388899218375, 45.45188667264219, 43.515803297052976, 42.54769867009933, 39.64243584657655, 37.70561032232925, 36.7377867651926, 33.83229512696938, 32.86645325306266, 32.86635272478123, 42.540507974927195, 31.89372778097404, 81.09590796874289, 39.63284063547509, 28.993726464835152, 28.993647032417424, 32.861731229390664, 28.025746736196776, 28.024575159667474, 205.0576095037545, 92.81449644362549, 128.6010593388234, 48.33759601677465, 71.39458854179337, 61.84962358355961, 1414.9440127571518, 76.35942446002781, 301.29657827250367, 56.05023523875278, 164.03559193554017, 909.303348373932, 116.86742969975319, 548.9292094954881, 351.4787421623435, 233.5194307932856, 271.00664165663244, 387.69681646773034, 254.7391112542277, 99.49955120620704, 554.8272651468518, 283.29680404651054, 972.7073616879717, 485.7551911832537, 2274.546387720336, 127.24759942393143, 106.19317601778621, 2152.236521050752, 263.29412797076657, 628.6298378341063, 505.98300057845057, 231.22263103154359, 321.33991383161504, 460.0516368395882, 1007.760647112965, 193.29611432125918, 341.7528132402709, 311.92423476106717, 325.4966197959895, 368.83557113780824, 546.3238435585719, 1618.4349423147876, 508.1950067590825, 506.70810224049376, 812.5190647398367, 713.1307228811012, 1349.704320760637, 401.1222542126976, 690.0848134398568, 558.4504129506042, 1065.7080660481874, 1333.3126260487336, 162.19494413819535, 138.0962570953686, 117.70596295951879, 107.50915296193422, 339.3124760305669, 84.33721590281814, 84.33709611111175, 83.4106330280567, 81.557053625657, 66.72655092192404, 67.65480121918407, 63.94608677186048, 61.164521181720986, 56.53033284911489, 213.89664780975016, 55.6042772344432, 60.23888227742775, 68.57458824629425, 63.92937639082704, 50.03372442964738, 43.55376545978684, 37.99348328924914, 37.066477568255415, 36.139299032009355, 50.054402547008294, 35.21276313940721, 34.28574036549967, 120.5072116344113, 33.35950934268815, 33.35957797393265, 407.3121356346812, 139.17812781585462, 72.16450658815955, 1361.0855409219673, 145.59542660574942, 69.33276725032009, 354.4514290407857, 121.67204788747789, 202.7341295961551, 362.31168438093647, 480.8442764314966, 331.92516924612204, 372.91001771753406, 229.24076969335135, 136.43028537065996, 273.27124372162655, 128.92003722882345, 231.3161278594352, 190.5984676665286, 350.38312098308796, 231.5109806200147, 507.1472603138517, 577.2957704387466, 1618.4349423147876, 451.01881495179316, 634.8258931478465, 1290.967888064485, 2152.236521050752, 219.5017301156374, 445.13919578316415, 650.1726491718664, 622.6122883637208, 1349.704320760637, 812.5190647398367, 585.8542961064463, 382.9475108671043, 1065.7080660481874, 2274.546387720336, 1333.3126260487336, 362.4461089492817, 539.2604032033844, 797.9258464414678, 1007.760647112965, 114.7434908279304, 274.4405861632153, 63.945073242287094, 52.6556764913971, 46.071842364120876, 43.25011012648069, 41.367995992625794, 36.664634257161744, 35.724219014797896, 33.84372997015782, 37.59390557810733, 31.02068960365904, 43.25761776118588, 67.59989150094012, 42.317702829920975, 26.31713974406566, 26.316904647479657, 31.96566655175655, 25.37745469789377, 24.43537323746108, 91.17367059263235, 22.554151119263494, 52.642611039093836, 218.1104906908943, 24.438208057913037, 22.55366304292973, 20.672677722891603, 27.261409135229037, 19.73217113444614, 19.73206238851552, 642.7718967894168, 46.05775134228586, 38.56899367481424, 41.35216238785714, 291.99789686371406, 255.8881972285571, 95.55901301682829, 82.20668134591715, 223.43547446061015, 207.1418382421873, 60.13816179259545, 143.7634227597088, 51.788695347881706, 237.1730215097585, 496.76789046216953, 186.07133862935467, 315.22879038165433, 155.19323560038677, 406.6427894130975, 62.763360987341606, 725.8191443012464, 64.7620891874121, 69.75810567208572, 152.02011187252089, 675.8432484244146, 449.23195588912347, 115.92430072204955, 134.3894729750486, 154.7436769286077, 1290.967888064485, 1333.3126260487336, 331.0057526725256, 253.41455612060878, 185.6565024906995, 393.3334000515541, 797.9258464414678, 650.1726491718664, 1349.704320760637, 1065.7080660481874, 514.801289958746, 570.2128710105619, 276.38781112054954, 488.3533333823982, 690.0848134398568, 500.37907396860123, 713.1307228811012, 1007.760647112965, 585.8542961064463, 37.73313545760595, 21.836366576353626, 17.653165951962656, 15.978480245867388, 15.979971719815117, 13.468449484801328, 13.46878857823372, 13.469412674701116, 14.311879852178288, 12.633396330635524, 13.479015540417006, 11.79542580609307, 11.79712845489215, 14.328499148621134, 10.958399612730572, 10.958763854564976, 10.958973797714517, 10.959839116368359, 10.121655127411044, 10.121655127411044, 10.121769173231122, 10.12223873622794, 10.123737057286403, 23.644209171369944, 10.126280294887016, 9.284973970111714, 9.284980415260435, 9.285341082214586, 9.285907684883314, 9.286552703891786, 32.14069859825787, 62.81502943984037, 33.08227016094161, 40.088997486118956, 22.029863983142683, 32.57250457003877, 18.7627076799266, 117.67117793612019, 31.632255028796685, 96.52270254116249, 225.53195721232092, 55.75267278381723, 270.7604234570316, 53.39505329642429, 25.751578898077117, 351.8311248648532, 191.39733327931, 57.88740361680158, 338.7042610080896, 32.10776747789983, 315.2221199675878, 97.48431301417327, 121.56368743535282, 118.63923778635235, 797.9258464414678, 96.62965840907913, 98.79784947684277, 129.8226791767316, 713.1307228811012, 570.2128710105619, 277.68069056955846, 507.1472603138517, 500.37907396860123, 280.23853203437784, 240.57623050487223, 514.801289958746, 1349.704320760637, 273.76401969892675, 1065.7080660481874, 416.8409624671727, 2274.546387720336, 208.00321524712695, 574.8871957730324, 690.0848134398568, 505.98300057845057, 311.92423476106717], \"Category\": [\"Default\", \"Default\", \"Default\", \"Default\", \"Default\", \"Default\", \"Default\", \"Default\", \"Default\", \"Default\", \"Default\", \"Default\", \"Default\", \"Default\", \"Default\", \"Default\", \"Default\", \"Default\", \"Default\", \"Default\", \"Default\", \"Default\", \"Default\", \"Default\", \"Default\", \"Default\", \"Default\", \"Default\", \"Default\", \"Default\", \"Topic1\", \"Topic1\", \"Topic1\", \"Topic1\", \"Topic1\", \"Topic1\", \"Topic1\", \"Topic1\", \"Topic1\", \"Topic1\", \"Topic1\", \"Topic1\", \"Topic1\", \"Topic1\", \"Topic1\", \"Topic1\", \"Topic1\", \"Topic1\", \"Topic1\", \"Topic1\", \"Topic1\", \"Topic1\", \"Topic1\", \"Topic1\", \"Topic1\", \"Topic1\", \"Topic1\", \"Topic1\", \"Topic1\", \"Topic1\", \"Topic1\", \"Topic1\", \"Topic1\", \"Topic1\", \"Topic1\", \"Topic1\", \"Topic1\", \"Topic1\", \"Topic1\", \"Topic1\", \"Topic1\", \"Topic1\", \"Topic1\", \"Topic1\", \"Topic1\", \"Topic1\", \"Topic1\", \"Topic1\", \"Topic1\", \"Topic1\", \"Topic1\", \"Topic1\", \"Topic1\", \"Topic1\", \"Topic1\", \"Topic1\", \"Topic1\", \"Topic1\", \"Topic1\", \"Topic1\", \"Topic1\", \"Topic1\", \"Topic1\", \"Topic1\", \"Topic1\", \"Topic1\", \"Topic1\", \"Topic1\", \"Topic1\", \"Topic1\", \"Topic1\", \"Topic1\", \"Topic1\", \"Topic1\", \"Topic1\", \"Topic1\", \"Topic1\", \"Topic1\", \"Topic1\", \"Topic1\", \"Topic1\", \"Topic1\", \"Topic2\", \"Topic2\", \"Topic2\", \"Topic2\", \"Topic2\", \"Topic2\", \"Topic2\", \"Topic2\", \"Topic2\", \"Topic2\", \"Topic2\", \"Topic2\", \"Topic2\", \"Topic2\", \"Topic2\", \"Topic2\", \"Topic2\", \"Topic2\", \"Topic2\", \"Topic2\", \"Topic2\", \"Topic2\", \"Topic2\", \"Topic2\", \"Topic2\", \"Topic2\", \"Topic2\", \"Topic2\", \"Topic2\", \"Topic2\", \"Topic2\", \"Topic2\", \"Topic2\", \"Topic2\", \"Topic2\", \"Topic2\", \"Topic2\", \"Topic2\", \"Topic2\", \"Topic2\", \"Topic2\", \"Topic2\", \"Topic2\", \"Topic2\", \"Topic2\", \"Topic2\", \"Topic2\", \"Topic2\", \"Topic2\", \"Topic2\", \"Topic2\", \"Topic2\", \"Topic2\", \"Topic2\", \"Topic2\", \"Topic2\", \"Topic2\", \"Topic2\", \"Topic2\", \"Topic2\", \"Topic2\", \"Topic2\", \"Topic2\", \"Topic2\", \"Topic2\", \"Topic2\", \"Topic2\", \"Topic2\", \"Topic2\", \"Topic2\", \"Topic2\", \"Topic2\", \"Topic2\", \"Topic3\", \"Topic3\", \"Topic3\", \"Topic3\", \"Topic3\", \"Topic3\", \"Topic3\", \"Topic3\", \"Topic3\", \"Topic3\", \"Topic3\", \"Topic3\", \"Topic3\", \"Topic3\", \"Topic3\", \"Topic3\", \"Topic3\", \"Topic3\", \"Topic3\", \"Topic3\", \"Topic3\", \"Topic3\", \"Topic3\", \"Topic3\", \"Topic3\", \"Topic3\", \"Topic3\", \"Topic3\", \"Topic3\", \"Topic3\", \"Topic3\", \"Topic3\", \"Topic3\", \"Topic3\", \"Topic3\", \"Topic3\", \"Topic3\", \"Topic3\", \"Topic3\", \"Topic3\", \"Topic3\", \"Topic3\", \"Topic3\", \"Topic3\", \"Topic3\", \"Topic3\", \"Topic3\", \"Topic3\", \"Topic3\", \"Topic3\", \"Topic3\", \"Topic3\", \"Topic3\", \"Topic3\", \"Topic3\", \"Topic3\", \"Topic3\", \"Topic3\", \"Topic3\", \"Topic3\", \"Topic3\", \"Topic3\", \"Topic3\", \"Topic3\", \"Topic3\", \"Topic3\", \"Topic3\", \"Topic3\", \"Topic3\", \"Topic3\", \"Topic3\", \"Topic3\", \"Topic3\", \"Topic3\", \"Topic3\", \"Topic3\", \"Topic3\", \"Topic3\", \"Topic4\", \"Topic4\", \"Topic4\", \"Topic4\", \"Topic4\", \"Topic4\", \"Topic4\", \"Topic4\", \"Topic4\", \"Topic4\", \"Topic4\", \"Topic4\", \"Topic4\", \"Topic4\", \"Topic4\", \"Topic4\", \"Topic4\", \"Topic4\", \"Topic4\", \"Topic4\", \"Topic4\", \"Topic4\", \"Topic4\", \"Topic4\", \"Topic4\", \"Topic4\", \"Topic4\", \"Topic4\", \"Topic4\", \"Topic4\", \"Topic4\", \"Topic4\", \"Topic4\", \"Topic4\", \"Topic4\", \"Topic4\", \"Topic4\", \"Topic4\", \"Topic4\", \"Topic4\", \"Topic4\", \"Topic4\", \"Topic4\", \"Topic4\", \"Topic4\", \"Topic4\", \"Topic4\", \"Topic4\", \"Topic4\", \"Topic4\", \"Topic4\", \"Topic4\", \"Topic4\", \"Topic4\", \"Topic4\", \"Topic4\", \"Topic4\", \"Topic4\", \"Topic4\", \"Topic4\", \"Topic4\", \"Topic4\", \"Topic4\", \"Topic4\", \"Topic4\", \"Topic4\", \"Topic4\", \"Topic4\", \"Topic4\", \"Topic4\", \"Topic4\", \"Topic4\", \"Topic4\", \"Topic4\", \"Topic4\", \"Topic4\"], \"logprob\": [30.0, 29.0, 28.0, 27.0, 26.0, 25.0, 24.0, 23.0, 22.0, 21.0, 20.0, 19.0, 18.0, 17.0, 16.0, 15.0, 14.0, 13.0, 12.0, 11.0, 10.0, 9.0, 8.0, 7.0, 6.0, 5.0, 4.0, 3.0, 2.0, 1.0, -6.5093, -6.8795, -6.9594, -7.1268, -7.1409, -7.1559, -6.7799, -7.2785, -7.3283, -7.2633, -6.9771, -7.4762, -7.5589, -7.6031, -7.6259, -7.6982, -7.7499, -7.7761, -7.8598, -7.8888, -7.8889, -7.6312, -7.9206, -6.9875, -7.704, -8.0172, -8.0172, -7.8923, -8.0518, -8.0523, -6.0635, -6.8566, -6.5389, -7.5101, -7.1269, -7.2693, -4.2221, -7.0669, -5.736, -7.3675, -6.3353, -4.7071, -6.6695, -5.2056, -5.6261, -6.0171, -5.8847, -5.5562, -5.9513, -6.8268, -5.2335, -5.9027, -4.8174, -5.4323, -4.0965, -6.6255, -6.7817, -4.2847, -6.0288, -5.3241, -5.5238, -6.153, -5.9095, -5.6381, -5.0635, -6.3152, -5.9326, -6.0011, -5.9794, -5.9018, -5.6592, -5.0275, -5.714, -5.7527, -5.5366, -5.6717, -5.4555, -5.908, -5.7911, -5.8462, -5.7815, -5.8495, -6.1877, -6.3493, -6.5102, -6.6012, -5.4532, -6.8457, -6.8457, -6.8569, -6.8796, -7.0821, -7.0685, -7.1253, -7.1702, -7.2499, -5.9194, -7.2666, -7.1866, -7.0573, -7.1278, -7.3751, -7.5145, -7.6535, -7.6783, -7.7042, -7.3786, -7.7306, -7.758, -6.5012, -7.7862, -7.7864, -5.2892, -6.3682, -7.0192, -4.1157, -6.3361, -7.0674, -5.4984, -6.5315, -6.0465, -5.4962, -5.2296, -5.6181, -5.5262, -5.9835, -6.4566, -5.8684, -6.52, -6.0257, -6.1981, -5.7071, -6.0486, -5.4159, -5.3214, -4.5225, -5.5262, -5.2687, -4.7848, -4.4126, -6.1184, -5.6759, -5.4423, -5.4785, -5.0568, -5.3766, -5.5786, -5.8084, -5.2716, -4.9177, -5.1905, -5.8589, -5.7997, -5.821, -5.823, -6.3277, -5.4589, -6.9173, -7.1149, -7.2492, -7.3136, -7.3591, -7.4814, -7.5078, -7.5639, -7.4595, -7.6519, -7.3203, -6.874, -7.3435, -7.8204, -7.8206, -7.6263, -7.8592, -7.8971, -6.5806, -7.9796, -7.1323, -5.7114, -7.9003, -7.9812, -8.0693, -7.7929, -8.1175, -8.1175, -4.6529, -7.2705, -7.4513, -7.3861, -5.4788, -5.6101, -6.5708, -6.7196, -5.7638, -5.8531, -7.0303, -6.2101, -7.1821, -5.7975, -5.1334, -6.0276, -5.5726, -6.2042, -5.3741, -7.0106, -4.912, -6.9838, -6.9237, -6.2793, -5.0706, -5.4223, -6.5146, -6.4, -6.2982, -4.6687, -4.6523, -5.72, -5.9277, -6.191, -5.7252, -5.2886, -5.4245, -5.1202, -5.3319, -5.7226, -5.7021, -6.0294, -5.8283, -5.7436, -5.8698, -5.8077, -5.7334, -5.8705, -6.3483, -6.9096, -7.1305, -7.2338, -7.2346, -7.4134, -7.4136, -7.414, -7.354, -7.4822, -7.4201, -7.5542, -7.5555, -7.3629, -7.6325, -7.6328, -7.633, -7.6335, -7.7176, -7.7176, -7.7177, -7.7181, -7.719, -6.8715, -7.7208, -7.8107, -7.8107, -7.811, -7.8115, -7.8123, -6.5761, -5.9351, -6.5977, -6.4302, -6.9983, -6.6799, -7.185, -5.6221, -6.7478, -5.8164, -5.125, -6.2876, -5.0305, -6.3997, -6.9693, -5.0565, -5.535, -6.4019, -5.2196, -6.8288, -5.3087, -6.1146, -5.9784, -6.0446, -4.907, -6.2218, -6.2632, -6.1346, -5.3035, -5.4191, -5.7972, -5.5235, -5.5412, -5.7982, -5.9008, -5.618, -5.3456, -5.8964, -5.4771, -5.7807, -5.2993, -6.0016, -5.806, -5.8948, -6.074, -6.0949], \"loglift\": [30.0, 29.0, 28.0, 27.0, 26.0, 25.0, 24.0, 23.0, 22.0, 21.0, 20.0, 19.0, 18.0, 17.0, 16.0, 15.0, 14.0, 13.0, 12.0, 11.0, 10.0, 9.0, 8.0, 7.0, 6.0, 5.0, 4.0, 3.0, 2.0, 1.0, 1.0604, 1.0588, 1.0581, 1.0568, 1.0567, 1.0559, 1.0553, 1.0547, 1.0545, 1.054, 1.0525, 1.0525, 1.0515, 1.0509, 1.0506, 1.049, 1.0475, 1.0473, 1.0459, 1.0459, 1.0458, 1.0455, 1.0441, 1.044, 1.0435, 1.0429, 1.0429, 1.0425, 1.0422, 1.0418, 1.0404, 1.04, 1.0316, 1.0388, 1.032, 1.0331, 0.9502, 1.0248, 0.983, 1.0334, 0.9918, 0.9073, 0.9966, 0.9135, 0.9389, 0.9568, 0.9402, 0.9107, 0.9356, 1.0002, 0.875, 0.878, 0.7296, 0.8091, 0.6011, 0.9555, 0.9802, 0.4682, 0.825, 0.6595, 0.6768, 0.8308, 0.7451, 0.6577, 0.4482, 0.8477, 0.6605, 0.6833, 0.6624, 0.615, 0.4647, 0.0104, 0.4823, 0.4465, 0.1904, 0.1857, -0.236, 0.5249, 0.0992, 0.2558, -0.3258, -0.6178, 1.1506, 1.1498, 1.1488, 1.1484, 1.147, 1.1466, 1.1466, 1.1465, 1.1463, 1.1445, 1.1442, 1.1438, 1.1434, 1.1425, 1.1423, 1.1422, 1.1422, 1.142, 1.1416, 1.1393, 1.1386, 1.1362, 1.1361, 1.1356, 1.1354, 1.1351, 1.1344, 1.1342, 1.1336, 1.1334, 1.1284, 1.1231, 1.129, 1.0954, 1.1102, 1.1208, 1.0581, 1.0943, 1.0688, 1.0384, 1.0219, 1.0041, 0.9796, 1.0089, 1.0547, 0.9483, 1.048, 0.9577, 0.9789, 0.861, 0.9339, 0.7824, 0.7474, 0.5154, 0.7894, 0.7051, 0.4792, 0.3403, 0.9174, 0.6528, 0.5076, 0.5148, 0.1627, 0.3504, 0.4755, 0.6709, 0.1842, -0.2201, 0.0412, 0.6754, 0.3372, -0.0759, -0.3113, 1.3567, 1.3535, 1.3518, 1.3484, 1.3478, 1.3466, 1.3455, 1.3439, 1.3435, 1.3415, 1.3408, 1.3405, 1.3396, 1.3395, 1.3384, 1.3365, 1.3363, 1.3361, 1.3341, 1.334, 1.3338, 1.3317, 1.3313, 1.3308, 1.3307, 1.33, 1.329, 1.3288, 1.3274, 1.3274, 1.3084, 1.3268, 1.3233, 1.3189, 1.2715, 1.2723, 1.2965, 1.2983, 1.2543, 1.2406, 1.3002, 1.2489, 1.2978, 1.1608, 1.0857, 1.1734, 1.1012, 1.1782, 1.0451, 1.2772, 0.9278, 1.2726, 1.2584, 1.1238, 0.8406, 0.8973, 1.1596, 1.1264, 1.0872, 0.5953, 0.5794, 0.905, 0.9644, 1.0122, 0.7273, 0.4565, 0.5254, 0.0993, 0.1239, 0.4607, 0.379, 0.7759, 0.4078, 0.1467, 0.342, 0.0497, -0.2217, 0.1836, 2.4483, 2.434, 2.4257, 2.4221, 2.4212, 2.4134, 2.4131, 2.4128, 2.412, 2.4085, 2.4059, 2.4052, 2.4038, 2.402, 2.4005, 2.4002, 2.4, 2.3994, 2.3949, 2.3949, 2.3948, 2.3943, 2.3932, 2.3925, 2.3912, 2.388, 2.388, 2.3877, 2.3872, 2.3863, 2.381, 2.3518, 2.3304, 2.3059, 2.3364, 2.2638, 2.3103, 2.0371, 2.2251, 2.041, 1.8837, 2.1186, 1.7954, 2.0497, 2.2093, 1.5074, 1.6378, 1.9667, 1.3825, 2.1292, 1.3652, 1.7328, 1.6483, 1.6065, 0.8382, 1.6345, 1.5709, 1.4264, 0.554, 0.662, 1.0035, 0.6749, 0.6706, 0.9933, 1.0433, 0.5654, -0.1261, 0.9184, -0.0213, 0.6137, -0.6017, 1.0879, 0.2669, -0.0045, 0.1266, 0.5895]}, \"token.table\": {\"Topic\": [1, 2, 3, 4, 1, 2, 3, 4, 1, 2, 3, 4, 2, 2, 4, 2, 2, 4, 1, 2, 4, 1, 2, 3, 4, 1, 2, 4, 2, 4, 2, 1, 2, 4, 4, 1, 2, 3, 4, 2, 4, 4, 1, 2, 3, 4, 1, 1, 2, 4, 1, 2, 3, 4, 1, 1, 2, 3, 4, 1, 2, 1, 1, 1, 2, 3, 4, 1, 2, 3, 4, 1, 2, 3, 4, 1, 2, 3, 4, 1, 2, 3, 3, 1, 2, 3, 4, 2, 2, 3, 4, 1, 2, 3, 4, 1, 2, 3, 2, 3, 1, 2, 3, 4, 2, 4, 2, 3, 4, 1, 4, 1, 2, 1, 1, 2, 3, 4, 1, 2, 3, 4, 1, 2, 3, 4, 2, 3, 4, 2, 1, 3, 1, 2, 3, 4, 1, 2, 3, 4, 1, 3, 4, 1, 2, 3, 4, 1, 2, 3, 4, 3, 1, 2, 3, 4, 3, 2, 1, 1, 2, 3, 4, 1, 2, 3, 1, 2, 3, 4, 2, 3, 1, 2, 3, 1, 1, 1, 2, 3, 4, 1, 3, 2, 3, 4, 3, 1, 3, 1, 2, 3, 1, 2, 3, 4, 1, 2, 3, 4, 4, 1, 2, 1, 1, 1, 2, 3, 4, 1, 3, 4, 1, 3, 1, 2, 3, 4, 1, 2, 3, 4, 4, 1, 2, 3, 4, 1, 2, 2, 3, 1, 1, 2, 3, 4, 1, 2, 3, 4, 2, 3, 1, 2, 3, 4, 2, 4, 1, 3, 2, 1, 2, 3, 4, 3, 1, 4, 1, 2, 3, 4, 1, 2, 3, 4, 2, 1, 4, 2, 1, 2, 2, 2, 1, 2, 3, 4, 1, 2, 4, 1, 2, 3, 4, 1, 2, 3, 4, 1, 2, 1, 2, 3, 1, 2, 3, 4, 1, 2, 3, 4, 2, 3, 1, 1, 2, 3, 4, 2, 3, 4, 3, 1, 2, 3, 3, 1, 1, 4, 1, 3, 1, 4, 1, 2, 3, 4, 1, 2, 2, 3, 4, 4, 2, 4, 1, 2, 4, 4, 1, 1, 3, 1, 2, 3, 4, 1, 2, 3, 4, 1, 2, 3, 4, 3, 1, 2, 3, 4, 3, 4, 2, 1, 2, 3, 4, 1, 2, 3, 4, 1, 2, 4, 1, 2, 1, 2, 3, 4, 1, 2, 3, 4, 1, 2, 1, 2, 3, 4, 1, 2, 3, 4, 4, 4, 1, 1, 2, 3, 4, 1, 2, 3, 2, 4, 2, 3, 1, 2, 3, 4, 4, 1, 2, 3, 4, 1, 2, 3, 4, 1, 2, 3, 4, 2, 1, 2, 4, 2, 4, 1, 2, 3, 4, 3, 3, 4, 1, 2, 3, 4, 1, 2, 4, 1, 3, 2, 3, 2, 4, 3, 4, 1, 2, 3, 4, 1, 3, 1, 3, 4, 4, 3, 4, 1, 2, 3, 4, 1, 3, 3, 3, 4, 1, 2, 4, 4, 1, 2, 3, 4, 1, 2, 3, 4, 1, 2, 3, 4, 1, 2, 1, 2, 1, 1, 2, 3, 1, 1, 3, 1, 2, 3, 4, 1, 3, 1, 2, 3, 4, 3, 1, 2, 3, 4, 1, 2, 3, 4, 1, 2, 3, 4, 1, 2, 3, 4, 1, 2, 3, 4, 4, 1, 2, 4, 1, 2, 3, 4, 3, 4, 3, 2, 3, 3, 1, 3, 1, 2, 3, 4, 2, 2, 1, 3, 4, 1, 2, 3, 4, 1, 2, 3, 1, 2, 3, 4, 3, 3, 4, 1, 2, 3, 4, 1, 2, 3, 4, 1, 2, 3, 4, 1, 2, 3, 4, 1, 2, 1, 2, 3, 4, 1, 1, 2, 3, 4, 1, 2, 3, 4, 1, 2, 3, 4, 2, 1, 2, 3, 4, 1, 2, 3, 4, 2, 1, 2, 3, 4, 1, 2, 3, 4, 2, 1, 3, 1, 2, 3, 4, 2, 3, 4, 1, 2, 3, 4, 4, 1, 2, 3, 4, 4, 4, 2, 3, 1, 2, 3, 4, 1, 2, 3, 4, 1, 2, 3, 4, 4, 4, 2, 1, 2, 3, 4, 1, 2, 3, 4, 1, 1, 4, 1, 1, 3, 1, 2, 3, 4], \"Freq\": [0.6050114599449122, 0.0864302085635589, 0.07922769118326232, 0.2304805561694904, 0.5568728465176762, 0.21251684602087997, 0.1613553830899274, 0.06887120009935925, 0.053603959367346, 0.908446048225548, 0.002821261019334, 0.036676393251342, 0.9952640966103184, 0.9854624517976623, 0.969307375727788, 0.9809608387473324, 0.9700059393392333, 0.01385722770484619, 0.09551854155773913, 0.015919756926289858, 0.8915063878722319, 0.37966347744129014, 0.23910104495348425, 0.2970649346391774, 0.08404764004425506, 0.7719938084172306, 0.2223342168241624, 0.004117300311558564, 0.09078585330941698, 0.8624656064394612, 0.9987980874543829, 0.4490790860549691, 0.16769408909647582, 0.38370681403430906, 0.9324302979373266, 0.17800156108894427, 0.6379701968232073, 0.15909874044233072, 0.0252037608621514, 0.9663540437972448, 0.028846389367081934, 0.9387626212999538, 0.29720205248953585, 0.14762977770722044, 0.4059818886948562, 0.14957227478231544, 0.9845902826859493, 0.9664598033170033, 0.014006663816188454, 0.014006663816188454, 0.9193599263164252, 0.02655191122935524, 0.003318988903669405, 0.049784833555041076, 0.9934334254901297, 0.03076106019758639, 0.5229380233589687, 0.43219289577608877, 0.012304424079034556, 0.2540076695198334, 0.7448988960076012, 0.9736371537752733, 0.9899955781648331, 0.5496607777208626, 0.44279519963481156, 0.001858531792800888, 0.005575595378402664, 0.8818972056884675, 0.07379892934631528, 0.022139678803894582, 0.022139678803894582, 0.003659367836810048, 0.8123796597718307, 0.15735281698283207, 0.029274942694480385, 0.06578076990487729, 0.07235884689536501, 0.7893692388585274, 0.07235884689536501, 0.018223090988361362, 0.788148685246629, 0.19134245537779432, 0.9697905078815419, 0.0532389743824917, 0.6881630392403557, 0.09070343783683771, 0.16563236474552973, 0.9891325404357761, 0.1874066881154659, 0.7560890520520521, 0.05169839672150783, 0.12460436064931804, 0.5069519878472255, 0.3072436289983185, 0.06144872579966369, 0.9326807330325859, 0.008556703972776017, 0.05989692780943212, 0.027508993175863267, 0.9673995933511916, 0.15972042099060108, 0.4095395410015412, 0.38496716854144875, 0.04709704721517724, 0.18967980608836932, 0.7903325253682054, 0.0965521990618635, 0.8834526214160511, 0.019310439812372703, 0.973640131838298, 0.8891313704930315, 0.07892109745838988, 0.9174577579537823, 0.9799174955772888, 0.15017515155918823, 0.1735969641876855, 0.6475442314937475, 0.02893282736461425, 0.02413450852054389, 0.8393445741033598, 0.09653803408217557, 0.037542568809734944, 0.030261616709465748, 0.8213867392569275, 0.138338819243272, 0.0086461762027045, 0.047798587468970206, 0.9241060244000906, 0.03186572497931347, 0.9939577834728596, 0.9885824904025526, 0.9537291293721513, 0.37410179638747515, 0.34500499000178264, 0.04156686626527502, 0.2410878243385951, 0.22169807160822386, 0.039905652889480295, 0.18179241871874355, 0.558679140452724, 0.15572555779350158, 0.12458044623480126, 0.7163375658501072, 0.00961523598384677, 0.6153751029661932, 0.12499806779000801, 0.24999613558001602, 0.11283866767774942, 0.33851600303324825, 0.07180642488584053, 0.48212885280492934, 0.9797275060233533, 0.1852528770630362, 0.32850510183647713, 0.45675709364934836, 0.02925045427311098, 0.9670964889336746, 0.9960029912499283, 0.9634401180453209, 0.5678535504374039, 0.09199861990326656, 0.0063447324071218315, 0.33309845137389615, 0.8950004686548311, 0.008564597786170632, 0.09421057564787695, 0.2630002294647132, 0.1095834289436305, 0.4164170299857959, 0.21186129595768563, 0.9891115169016578, 0.9628998543537144, 0.8958911642820355, 0.06286955538821301, 0.039293472117633135, 0.9737770592980824, 0.9894097529785265, 0.02344774032168765, 0.03517161048253147, 0.9144618725458183, 0.0312636537622502, 0.975335665347928, 0.024383391633698202, 0.03139421290874665, 0.9313616496261506, 0.03139421290874665, 0.9754301939215884, 0.9872942754880651, 0.9842020782631005, 0.664938211396687, 0.3324691056983435, 0.00159076127128394, 0.10364949237865843, 0.017274915396443075, 0.2763986463430892, 0.6046220388755076, 0.29113949228863883, 0.44134521760952894, 0.2577604422173299, 0.009271958353141364, 0.9630000673114367, 0.057531701993489816, 0.9451636756073327, 0.9840324179309863, 0.9657288015092947, 0.6671488607167765, 0.24579168552723343, 0.06144792138180836, 0.02633482344934644, 0.9134296914121256, 0.009416800942393047, 0.07533440753914437, 0.9723280401385609, 0.020687830641245977, 0.8523008316046555, 0.10887455784369147, 0.0032992290255664087, 0.03409203326418622, 0.8563392473139737, 0.00515867016454201, 0.08253872263267216, 0.05416603672769111, 0.9692697252919296, 0.12649800333063516, 0.05208741313614389, 0.7887522560616075, 0.02976423607779651, 0.9696761114753774, 0.021548358032786163, 0.0241825322366611, 0.967301289466444, 0.9945111020855707, 0.10783143891777555, 0.6043053556017005, 0.20218394797082917, 0.08536655580990565, 0.0031115237146953777, 0.046672855720430666, 0.9474589711247424, 0.0031115237146953777, 0.04988512968431598, 0.9311890874405648, 0.2817944132190382, 0.3670285258593645, 0.2417865644286809, 0.11132618793838546, 0.9892231825415937, 0.9072827422578325, 0.023117315556319847, 0.9709272533654336, 0.9916209741685863, 0.8254821433095514, 0.09912995170747889, 0.07389687309102971, 0.001802362758317798, 0.9875478479228308, 0.9633998427998364, 0.8889997783498722, 0.5388184203814543, 0.2312056941968303, 0.20540591716199086, 0.025799777034839433, 0.15350370092814908, 0.030700740185629818, 0.030700740185629818, 0.828919985012005, 0.9920616451276335, 0.10659442305012898, 0.8527553844010318, 0.9903214375419909, 0.005894271921259477, 0.9931848187322219, 0.9794338435477251, 0.9852049309094422, 0.23517679646028075, 0.17005091436358763, 0.557188102382819, 0.03979915017020136, 0.35867401191549647, 0.6180229128390092, 0.022072246887107475, 0.34786693322053586, 0.5276702681533528, 0.10627551068193991, 0.018536426281733704, 0.154075872060314, 0.1963712094886355, 0.631408965894228, 0.015105477652971962, 0.028740148058984998, 0.9699799969907437, 0.12650454820402343, 0.8637207084274703, 0.004362225800138739, 0.006196900847777241, 0.5089204821237059, 0.46399295097732085, 0.02013992775527603, 0.05902863618670039, 0.0548123050305075, 0.8179682443014196, 0.06746129849908615, 0.9547003174515306, 0.04121008564538981, 0.9719779454094675, 0.6666735898394534, 0.11367245541041371, 0.17511702590252923, 0.04608342786908664, 0.07720566249076252, 0.9110268173909979, 0.015441132498152505, 0.9628945477181676, 0.013911744459109532, 0.09042633898421196, 0.89035164538301, 0.9754513028825579, 0.9881467591547849, 0.04229365392397516, 0.9304603863274536, 0.023630772303948035, 0.9688616644618695, 0.06222640101881315, 0.9022828147727907, 0.21361608578194874, 0.5268126025299187, 0.24734494143173014, 0.01124295188326046, 0.9700948287735212, 0.0323364942924507, 0.06045534330837091, 0.06045534330837091, 0.8766024779713781, 0.889182637296797, 0.9931697676547531, 0.9125116785717037, 0.02455119581550846, 0.9746824738756859, 0.889182637296797, 0.9693080485708366, 0.9812633593275503, 0.9845715486926199, 0.012307144358657748, 0.045105058689700744, 0.06443579812814391, 0.8312217958530566, 0.051548638502515134, 0.6371402825249651, 0.2982358769265794, 0.05964717538531588, 0.005422470489574171, 0.7914450206867294, 0.1729934471446403, 0.03459868942892806, 0.004324836178616008, 0.9879493080498167, 0.10777943888337069, 0.2920070844165741, 0.4035462711679693, 0.19550688913727707, 0.19416285190860094, 0.7766514076344038, 0.9916659123456701, 0.16571890044193574, 0.2234245889886812, 0.5933328489037163, 0.017755596475921686, 0.03313999967216561, 0.8586272642333818, 0.08435636280187611, 0.021089090700469028, 0.33431736361643427, 0.6651702985943563, 0.9651944511927889, 0.9930962836915673, 0.010133635547873136, 0.8018785092719928, 0.07760114605857994, 0.0827745557958186, 0.03621386816067064, 0.10233953427487308, 0.026931456388124494, 0.7056041573688617, 0.16697502960637187, 0.01997826263255976, 0.9789348689954284, 0.26219657319711936, 0.0187283266569371, 0.05618497997081129, 0.6554914329927984, 0.21864403070964225, 0.20847454090919376, 0.5288134696233208, 0.04067795920179391, 0.9652187517702051, 0.9386750028725048, 0.9837739903236907, 0.03767150420653234, 0.02739745760475079, 0.9143901475585576, 0.020548093203563093, 0.03147979138267581, 0.8394611035380215, 0.12591916553070323, 0.968474788871797, 0.9644621271501118, 0.2415615064982514, 0.7589057329153398, 0.10351582821941942, 0.008626319018284952, 0.8195003067370704, 0.06901055214627962, 0.9325648925974184, 0.4462133445310044, 0.12954580970254967, 0.26628860883301875, 0.15593477093825422, 0.8295187119774872, 0.16237387553601876, 0.003529866859478669, 0.003529866859478669, 0.008081784479577131, 0.9418952457107166, 0.027184184158577623, 0.02277593807880828, 0.9892211473954009, 0.25853113651637005, 0.23267802286473305, 0.5096756691322724, 0.9872854745407, 0.9805705131917902, 0.8754054251898825, 0.007851169732644686, 0.08636286705909155, 0.0274790940642564, 0.981872606378668, 0.976735413451675, 0.9691432641337728, 0.49596221233018956, 0.0708517446185985, 0.03036503340797079, 0.4048671121062772, 0.12472250027532564, 0.024944500055065127, 0.8481130018722143, 0.9657261557585436, 0.9911043311672291, 0.021711871961970813, 0.9553223663267157, 0.9864577222718957, 0.00935031016371465, 0.9763329279764026, 0.014792923151157615, 0.11558055675310146, 0.1524679684828147, 0.7279115914663411, 0.002459160781980882, 0.9753993891385183, 0.9852205464101007, 0.28698175712652396, 0.017936359820407748, 0.6995180329959022, 0.9124941974115761, 0.9821826647282955, 0.8891726185380865, 0.8897878563737089, 0.07208765794290573, 0.00494719221176804, 0.0332168619932997, 0.9971002005391248, 0.9750698291558942, 0.9851263768416815, 0.9911070509018522, 0.007287551844866561, 0.01659651711191774, 0.9791945096031468, 0.00829825855595887, 0.9124221527180219, 0.269725266253195, 0.1180048039857728, 0.19386503511948389, 0.4214457285206172, 0.23033194032461635, 0.2796887846798913, 0.04935684435527493, 0.4442115991974744, 0.11554221569853783, 0.18486754511766054, 0.3466266470956135, 0.354329461475516, 0.7250888855409791, 0.2738533129940179, 0.9266281677438046, 0.06705861740251218, 0.9905987645592133, 0.8791427842804698, 0.11665001344821767, 0.002845122279224821, 0.9837942388539672, 0.05792769985511342, 0.9461524309668524, 0.18941295533613758, 0.08681427119572972, 0.6708375501488206, 0.051299342070203924, 0.9642222283200557, 0.03110394284903405, 0.05615123507422377, 0.8755433320832668, 0.022876429104313385, 0.04575285820862677, 0.9879581336891758, 0.41599023908223665, 0.4467587478900944, 0.13045847734531682, 0.006153701761571548, 0.24866096864844192, 0.37909068427913406, 0.2899480728768625, 0.08257420845684109, 0.006678064551446204, 0.3472593566752026, 0.6277380678359431, 0.017808172137189875, 0.8580341360097934, 0.005465185579680213, 0.12934272538576505, 0.009108642632800356, 0.5387717283242272, 0.29602842215616876, 0.16380239359308005, 0.001973522814374458, 0.9782083237562381, 0.15296863952336406, 0.18696167052855608, 0.6543658468499463, 0.26571853490160385, 0.2834331038950441, 0.11514469845736168, 0.3365768108753649, 0.9820687320087225, 0.9651497295362559, 0.9942171216269908, 0.018996018249500823, 0.968796930724542, 0.9674605422718546, 0.9560051102560839, 0.03928788124340071, 0.03108077085513264, 0.09324231256539792, 0.21756539598592847, 0.6526961879577854, 0.9940023177945405, 0.9712279763759163, 0.6778883867795461, 0.2253040119325605, 0.09684119811136373, 0.04140081771204739, 0.8887375535519507, 0.06348125382513933, 0.002760054514136493, 0.014659501697634874, 0.9015593544045447, 0.0806272593369918, 0.7861929986641522, 0.07216264238946325, 0.11394101429915249, 0.030384270479774, 0.9935204095451015, 0.9366635258756162, 0.06082230687504001, 0.6672886795491066, 0.05352582991035614, 0.04995744124966574, 0.2283768742841862, 0.5472944363043235, 0.2873753394641431, 0.11165538667078172, 0.051251652898063736, 0.4553467405806937, 0.041395158234608515, 0.06209273735191278, 0.43464916146338944, 0.08061424242171597, 0.07523995959360157, 0.8276395555296172, 0.016122848484343193, 0.9634214695082091, 0.017841138324226093, 0.5808702896759507, 0.16952437638611437, 0.1620453597808446, 0.08476218819305718, 0.9812863306999333, 0.27191140633911143, 0.3704515072739938, 0.2822840485427833, 0.07483120446934674, 0.013426695144279228, 0.0760846058175823, 0.8951130096186153, 0.008951130096186153, 0.06205396904905168, 0.8997825512112493, 0.023270238393394378, 0.023270238393394378, 0.9793394467145674, 0.682858131120069, 0.10258901500395404, 0.06091222765859771, 0.15388352250593104, 0.06269679830119763, 0.2873603255471558, 0.21421406086242523, 0.4336528549166169, 0.9906186144254554, 0.1511807340898722, 0.8034176154490352, 0.012958348636274762, 0.03455559636339936, 0.20184697013596084, 0.2717939399850562, 0.3597272735096332, 0.16587424278499754, 0.9950769702476833, 0.9346775826884174, 0.06030177952828499, 0.18716564539859262, 0.028550691670971757, 0.7708686751162374, 0.012689196298209669, 0.9738512185975255, 0.9031208544587811, 0.08601150994845534, 0.08647089369025213, 0.6939843519243312, 0.15520416816199098, 0.06429886966711056, 0.9692105828977011, 0.6651427263733369, 0.22606158020531714, 0.08477309257699393, 0.02391035944479316, 0.8887765040973931, 0.9616984550323807, 0.021936157522231183, 0.9761590097392876, 0.29462681139108865, 0.16660444691757992, 0.373544707299416, 0.16485071589739486, 0.41507116507915687, 0.16967436140060127, 0.2692353503216153, 0.14723808220713333, 0.44408598194005805, 0.3849938956335181, 0.15220688897139087, 0.019697362102179993, 0.9498633372959605, 0.9125420091801378, 0.996001576537614, 0.7134725482036843, 0.2302850876046474, 0.029813694377387387, 0.02570146067016154, 0.6278174882294719, 0.2527976580755927, 0.07298158476617111, 0.04660269870610926, 0.9871274196438683, 0.9741551944945147, 0.012331078411322971, 0.9900579116572914, 0.025927562653858024, 0.9593198181927469, 0.06267177437883598, 0.6162724480585537, 0.2846343086372134, 0.03655853505432099], \"Term\": [\"acid\", \"acid\", \"acid\", \"acid\", \"activity\", \"activity\", \"activity\", \"activity\", \"acute\", \"acute\", \"acute\", \"acute\", \"admission\", \"admitted\", \"af\", \"ali\", \"alveolar\", \"alveolar\", \"amplification\", \"amplification\", \"amplification\", \"analysis\", \"analysis\", \"analysis\", \"analysis\", \"antibody\", \"antibody\", \"antibody\", \"apc\", \"apc\", \"ards\", \"assay\", \"assay\", \"assay\", \"assignment\", \"associated\", \"associated\", \"associated\", \"associated\", \"asthma\", \"asthma\", \"atgus\", \"based\", \"based\", \"based\", \"based\", \"bat\", \"bind\", \"bind\", \"bind\", \"binding\", \"binding\", \"binding\", \"binding\", \"capsid\", \"case\", \"case\", \"case\", \"case\", \"cd\", \"cd\", \"cea\", \"ceacam\", \"cell\", \"cell\", \"cell\", \"cell\", \"cellular\", \"cellular\", \"cellular\", \"cellular\", \"child\", \"child\", \"child\", \"child\", \"china\", \"china\", \"china\", \"china\", \"ci\", \"ci\", \"ci\", \"climate\", \"clinical\", \"clinical\", \"clinical\", \"clinical\", \"cns\", \"community\", \"community\", \"community\", \"conclusion\", \"conclusion\", \"conclusion\", \"conclusion\", \"conserved\", \"conserved\", \"conserved\", \"contact\", \"contact\", \"control\", \"control\", \"control\", \"control\", \"copd\", \"copd\", \"country\", \"country\", \"country\", \"cpv\", \"csn\", \"cytokine\", \"cytokine\", \"cytoplasmic\", \"data\", \"data\", \"data\", \"data\", \"day\", \"day\", \"day\", \"day\", \"death\", \"death\", \"death\", \"death\", \"decision\", \"decision\", \"decision\", \"demyelination\", \"denv\", \"describing\", \"detected\", \"detected\", \"detected\", \"detected\", \"detection\", \"detection\", \"detection\", \"detection\", \"device\", \"device\", \"device\", \"diagnosis\", \"diagnosis\", \"diagnosis\", \"diagnosis\", \"diagnostic\", \"diagnostic\", \"diagnostic\", \"diagnostic\", \"disaster\", \"disease\", \"disease\", \"disease\", \"disease\", \"distancing\", \"distress\", \"divergent\", \"dna\", \"dna\", \"dna\", \"dna\", \"domain\", \"domain\", \"domain\", \"drug\", \"drug\", \"drug\", \"drug\", \"ecmo\", \"education\", \"entry\", \"entry\", \"entry\", \"env\", \"envelope\", \"epidemic\", \"epidemic\", \"epidemic\", \"epidemic\", \"epitope\", \"epitope\", \"estimate\", \"estimate\", \"estimate\", \"ethical\", \"eukaryotic\", \"expert\", \"expression\", \"expression\", \"expression\", \"extract\", \"extract\", \"extract\", \"extract\", \"factor\", \"factor\", \"factor\", \"factor\", \"faecium\", \"failure\", \"failure\", \"flavivirus\", \"frameshift\", \"function\", \"function\", \"function\", \"function\", \"fusion\", \"fusion\", \"fusion\", \"gag\", \"gag\", \"gene\", \"gene\", \"gene\", \"gene\", \"genome\", \"genome\", \"genome\", \"genome\", \"ggt\", \"global\", \"global\", \"global\", \"global\", \"glycoprotein\", \"glycoprotein\", \"government\", \"government\", \"gp\", \"group\", \"group\", \"group\", \"group\", \"health\", \"health\", \"health\", \"health\", \"healthcare\", \"healthcare\", \"high\", \"high\", \"high\", \"high\", \"hmgb\", \"honey\", \"hong\", \"hong\", \"hospitalized\", \"host\", \"host\", \"host\", \"host\", \"household\", \"hpv\", \"hts\", \"human\", \"human\", \"human\", \"human\", \"hybridization\", \"hybridization\", \"hybridization\", \"hybridization\", \"icu\", \"id\", \"id\", \"ifitm\", \"il\", \"il\", \"ili\", \"ill\", \"individual\", \"individual\", \"individual\", \"individual\", \"induced\", \"induced\", \"induced\", \"infection\", \"infection\", \"infection\", \"infection\", \"infectious\", \"infectious\", \"infectious\", \"infectious\", \"inflammation\", \"inflammation\", \"inflammatory\", \"inflammatory\", \"inflammatory\", \"influenza\", \"influenza\", \"influenza\", \"influenza\", \"information\", \"information\", \"information\", \"information\", \"injury\", \"injury\", \"insect\", \"interaction\", \"interaction\", \"interaction\", \"interaction\", \"international\", \"international\", \"international\", \"internet\", \"intervention\", \"intervention\", \"intervention\", \"investment\", \"ire\", \"isothermal\", \"isothermal\", \"kong\", \"kong\", \"lamp\", \"lamp\", \"level\", \"level\", \"level\", \"level\", \"lineage\", \"lineage\", \"liposome\", \"liposome\", \"liposome\", \"lnes\", \"lp\", \"lrtd\", \"lung\", \"lung\", \"lyc\", \"lycorine\", \"mabs\", \"mammalian\", \"mammalian\", \"measure\", \"measure\", \"measure\", \"measure\", \"mechanism\", \"mechanism\", \"mechanism\", \"mechanism\", \"membrane\", \"membrane\", \"membrane\", \"membrane\", \"message\", \"method\", \"method\", \"method\", \"method\", \"metric\", \"metric\", \"microglia\", \"model\", \"model\", \"model\", \"model\", \"mortality\", \"mortality\", \"mortality\", \"mortality\", \"mouse\", \"mouse\", \"mscl\", \"mutant\", \"mutant\", \"mutation\", \"mutation\", \"mutation\", \"mutation\", \"network\", \"network\", \"network\", \"network\", \"nk\", \"nk\", \"nucleic\", \"nucleic\", \"nucleic\", \"nucleic\", \"number\", \"number\", \"number\", \"number\", \"oa\", \"optimism\", \"orf\", \"outbreak\", \"outbreak\", \"outbreak\", \"outbreak\", \"outcome\", \"outcome\", \"outcome\", \"oxygenation\", \"pacific\", \"pandemic\", \"pandemic\", \"paper\", \"paper\", \"paper\", \"paper\", \"papg\", \"pathogen\", \"pathogen\", \"pathogen\", \"pathogen\", \"pathway\", \"pathway\", \"pathway\", \"pathway\", \"patient\", \"patient\", \"patient\", \"patient\", \"pbmcs\", \"pcr\", \"pcr\", \"pcr\", \"pediatric\", \"pedv\", \"peptide\", \"peptide\", \"peptide\", \"peptide\", \"perceived\", \"perception\", \"pessimism\", \"pig\", \"pig\", \"pig\", \"pig\", \"piglet\", \"piglet\", \"piglet\", \"pkr\", \"plan\", \"planning\", \"planning\", \"pneumonia\", \"pneumonia\", \"policy\", \"policy\", \"population\", \"population\", \"population\", \"population\", \"pprv\", \"preparedness\", \"probe\", \"probe\", \"probe\", \"probiotic\", \"professional\", \"prohnp\", \"protein\", \"protein\", \"protein\", \"protein\", \"prrsv\", \"pseudoknot\", \"pseudoknots\", \"public\", \"public\", \"pulmonary\", \"pulmonary\", \"pulmonary\", \"quercetin\", \"rapid\", \"rapid\", \"rapid\", \"rapid\", \"reaction\", \"reaction\", \"reaction\", \"reaction\", \"real\", \"real\", \"real\", \"real\", \"receptor\", \"receptor\", \"recombinant\", \"recombinant\", \"recombination\", \"replication\", \"replication\", \"replication\", \"reporter\", \"reproduction\", \"reproduction\", \"research\", \"research\", \"research\", \"research\", \"residue\", \"residue\", \"respiratory\", \"respiratory\", \"respiratory\", \"respiratory\", \"respondent\", \"response\", \"response\", \"response\", \"response\", \"result\", \"result\", \"result\", \"result\", \"risk\", \"risk\", \"risk\", \"risk\", \"rna\", \"rna\", \"rna\", \"rna\", \"role\", \"role\", \"role\", \"role\", \"rpa\", \"rt\", \"rt\", \"rt\", \"sample\", \"sample\", \"sample\", \"sample\", \"sars\", \"sbv\", \"scenario\", \"school\", \"school\", \"sector\", \"segment\", \"segment\", \"sensitivity\", \"sensitivity\", \"sensitivity\", \"sensitivity\", \"sepsis\", \"septic\", \"sequence\", \"sequence\", \"sequence\", \"severe\", \"severe\", \"severe\", \"severe\", \"severity\", \"severity\", \"severity\", \"site\", \"site\", \"site\", \"site\", \"social\", \"spatial\", \"spatial\", \"specie\", \"specie\", \"specie\", \"specie\", \"specific\", \"specific\", \"specific\", \"specific\", \"specificity\", \"specificity\", \"specificity\", \"specificity\", \"spread\", \"spread\", \"spread\", \"spread\", \"stat\", \"stat\", \"strain\", \"strain\", \"strain\", \"strain\", \"strand\", \"study\", \"study\", \"study\", \"study\", \"surveillance\", \"surveillance\", \"surveillance\", \"surveillance\", \"survival\", \"survival\", \"survival\", \"survival\", \"survivor\", \"target\", \"target\", \"target\", \"target\", \"test\", \"test\", \"test\", \"test\", \"tgf\", \"therapy\", \"therapy\", \"therapy\", \"therapy\", \"time\", \"time\", \"time\", \"time\", \"tnf\", \"translation\", \"translation\", \"transmission\", \"transmission\", \"transmission\", \"transmission\", \"transplant\", \"travel\", \"travel\", \"treatment\", \"treatment\", \"treatment\", \"treatment\", \"ttf\", \"type\", \"type\", \"type\", \"type\", \"ups\", \"uri\", \"usage\", \"usage\", \"used\", \"used\", \"used\", \"used\", \"using\", \"using\", \"using\", \"using\", \"vaccine\", \"vaccine\", \"vaccine\", \"vaccine\", \"vacuolation\", \"vd\", \"ventilation\", \"viral\", \"viral\", \"viral\", \"viral\", \"virus\", \"virus\", \"virus\", \"virus\", \"vlps\", \"vp\", \"vp\", \"vsv\", \"wildlife\", \"wildlife\", \"year\", \"year\", \"year\", \"year\"]}, \"R\": 30, \"lambda.step\": 0.01, \"plot.opts\": {\"xlab\": \"PC1\", \"ylab\": \"PC2\"}, \"topic.order\": [2, 3, 1, 4]};\n",
       "\n",
       "function LDAvis_load_lib(url, callback){\n",
       "  var s = document.createElement('script');\n",
       "  s.src = url;\n",
       "  s.async = true;\n",
       "  s.onreadystatechange = s.onload = callback;\n",
       "  s.onerror = function(){console.warn(\"failed to load library \" + url);};\n",
       "  document.getElementsByTagName(\"head\")[0].appendChild(s);\n",
       "}\n",
       "\n",
       "if(typeof(LDAvis) !== \"undefined\"){\n",
       "   // already loaded: just create the visualization\n",
       "   !function(LDAvis){\n",
       "       new LDAvis(\"#\" + \"ldavis_el1843621752121330567286435741\", ldavis_el1843621752121330567286435741_data);\n",
       "   }(LDAvis);\n",
       "}else if(typeof define === \"function\" && define.amd){\n",
       "   // require.js is available: use it to load d3/LDAvis\n",
       "   require.config({paths: {d3: \"https://d3js.org/d3.v5\"}});\n",
       "   require([\"d3\"], function(d3){\n",
       "      window.d3 = d3;\n",
       "      LDAvis_load_lib(\"https://cdn.jsdelivr.net/gh/bmabey/pyLDAvis@3.3.1/pyLDAvis/js/ldavis.v3.0.0.js\", function(){\n",
       "        new LDAvis(\"#\" + \"ldavis_el1843621752121330567286435741\", ldavis_el1843621752121330567286435741_data);\n",
       "      });\n",
       "    });\n",
       "}else{\n",
       "    // require.js not available: dynamically load d3 & LDAvis\n",
       "    LDAvis_load_lib(\"https://d3js.org/d3.v5.js\", function(){\n",
       "         LDAvis_load_lib(\"https://cdn.jsdelivr.net/gh/bmabey/pyLDAvis@3.3.1/pyLDAvis/js/ldavis.v3.0.0.js\", function(){\n",
       "                 new LDAvis(\"#\" + \"ldavis_el1843621752121330567286435741\", ldavis_el1843621752121330567286435741_data);\n",
       "            })\n",
       "         });\n",
       "}\n",
       "</script>"
      ],
      "text/plain": [
       "PreparedData(topic_coordinates=                x           y  topics  cluster       Freq\n",
       "topic                                                    \n",
       "1      269.562408 -124.803398       1        1  34.416327\n",
       "2        1.782994 -295.079681       2        1  31.510101\n",
       "0      220.811432 -343.832123       3        1  25.593790\n",
       "3       50.533993  -76.050934       4        1   8.479783, topic_info=            Term         Freq        Total Category  logprob  loglift\n",
       "11386    patient  1361.000000  1361.000000  Default  30.0000  30.0000\n",
       "12559    protein  1414.000000  1414.000000  Default  29.0000  29.0000\n",
       "2335        cell  2152.000000  2152.000000  Default  28.0000  28.0000\n",
       "6715      health   642.000000   642.000000  Default  27.0000  27.0000\n",
       "7817   influenza  1290.000000  1290.000000  Default  26.0000  26.0000\n",
       "...          ...          ...          ...      ...      ...      ...\n",
       "4138   diagnosis    52.353028   208.003215   Topic4  -6.0016   1.0879\n",
       "6920        high    63.664646   574.887196   Topic4  -5.8060   0.2669\n",
       "685     analysis    58.254913   690.084813   Topic4  -5.8948  -0.0045\n",
       "14130   sequence    48.697814   505.983001   Topic4  -6.0740   0.1266\n",
       "15368     target    47.692297   311.924235   Topic4  -6.0949   0.5895\n",
       "\n",
       "[339 rows x 6 columns], token_table=       Topic      Freq      Term\n",
       "term                            \n",
       "154        1  0.605011      acid\n",
       "154        2  0.086430      acid\n",
       "154        3  0.079228      acid\n",
       "154        4  0.230481      acid\n",
       "206        1  0.556873  activity\n",
       "...      ...       ...       ...\n",
       "16963      3  0.959320  wildlife\n",
       "17082      1  0.062672      year\n",
       "17082      2  0.616272      year\n",
       "17082      3  0.284634      year\n",
       "17082      4  0.036559      year\n",
       "\n",
       "[680 rows x 3 columns], R=30, lambda_step=0.01, plot_opts={'xlab': 'PC1', 'ylab': 'PC2'}, topic_order=[2, 3, 1, 4])"
      ]
     },
     "execution_count": 38,
     "metadata": {},
     "output_type": "execute_result"
    }
   ],
   "source": [
    "pyLDAvis.enable_notebook()\n",
    "panel = pyLDAvis.sklearn.prepare(best_lda_model, doc_word, vectorizer, mds='tsne')\n",
    "panel"
   ]
  },
  {
   "cell_type": "markdown",
   "id": "d1e1a5e0",
   "metadata": {},
   "source": [
    "## Show top n keywords for each topic"
   ]
  },
  {
   "cell_type": "code",
   "execution_count": 39,
   "id": "9a92374f",
   "metadata": {},
   "outputs": [
    {
     "data": {
      "text/html": [
       "<div>\n",
       "<style scoped>\n",
       "    .dataframe tbody tr th:only-of-type {\n",
       "        vertical-align: middle;\n",
       "    }\n",
       "\n",
       "    .dataframe tbody tr th {\n",
       "        vertical-align: top;\n",
       "    }\n",
       "\n",
       "    .dataframe thead th {\n",
       "        text-align: right;\n",
       "    }\n",
       "</style>\n",
       "<table border=\"1\" class=\"dataframe\">\n",
       "  <thead>\n",
       "    <tr style=\"text-align: right;\">\n",
       "      <th></th>\n",
       "      <th>Word 0</th>\n",
       "      <th>Word 1</th>\n",
       "      <th>Word 2</th>\n",
       "      <th>Word 3</th>\n",
       "      <th>Word 4</th>\n",
       "      <th>Word 5</th>\n",
       "      <th>Word 6</th>\n",
       "      <th>Word 7</th>\n",
       "      <th>Word 8</th>\n",
       "      <th>Word 9</th>\n",
       "      <th>Word 10</th>\n",
       "      <th>Word 11</th>\n",
       "      <th>Word 12</th>\n",
       "      <th>Word 13</th>\n",
       "      <th>Word 14</th>\n",
       "    </tr>\n",
       "  </thead>\n",
       "  <tbody>\n",
       "    <tr>\n",
       "      <th>Topic 0</th>\n",
       "      <td>disease</td>\n",
       "      <td>health</td>\n",
       "      <td>influenza</td>\n",
       "      <td>data</td>\n",
       "      <td>model</td>\n",
       "      <td>study</td>\n",
       "      <td>pandemic</td>\n",
       "      <td>method</td>\n",
       "      <td>result</td>\n",
       "      <td>population</td>\n",
       "      <td>risk</td>\n",
       "      <td>case</td>\n",
       "      <td>public</td>\n",
       "      <td>outbreak</td>\n",
       "      <td>transmission</td>\n",
       "    </tr>\n",
       "    <tr>\n",
       "      <th>Topic 1</th>\n",
       "      <td>virus</td>\n",
       "      <td>protein</td>\n",
       "      <td>cell</td>\n",
       "      <td>gene</td>\n",
       "      <td>viral</td>\n",
       "      <td>infection</td>\n",
       "      <td>human</td>\n",
       "      <td>rna</td>\n",
       "      <td>host</td>\n",
       "      <td>expression</td>\n",
       "      <td>antibody</td>\n",
       "      <td>study</td>\n",
       "      <td>sequence</td>\n",
       "      <td>response</td>\n",
       "      <td>genome</td>\n",
       "    </tr>\n",
       "    <tr>\n",
       "      <th>Topic 2</th>\n",
       "      <td>patient</td>\n",
       "      <td>cell</td>\n",
       "      <td>infection</td>\n",
       "      <td>influenza</td>\n",
       "      <td>virus</td>\n",
       "      <td>study</td>\n",
       "      <td>disease</td>\n",
       "      <td>respiratory</td>\n",
       "      <td>associated</td>\n",
       "      <td>result</td>\n",
       "      <td>lung</td>\n",
       "      <td>mouse</td>\n",
       "      <td>response</td>\n",
       "      <td>clinical</td>\n",
       "      <td>case</td>\n",
       "    </tr>\n",
       "    <tr>\n",
       "      <th>Topic 3</th>\n",
       "      <td>method</td>\n",
       "      <td>pcr</td>\n",
       "      <td>assay</td>\n",
       "      <td>detection</td>\n",
       "      <td>sample</td>\n",
       "      <td>virus</td>\n",
       "      <td>using</td>\n",
       "      <td>dna</td>\n",
       "      <td>study</td>\n",
       "      <td>used</td>\n",
       "      <td>result</td>\n",
       "      <td>clinical</td>\n",
       "      <td>test</td>\n",
       "      <td>time</td>\n",
       "      <td>based</td>\n",
       "    </tr>\n",
       "  </tbody>\n",
       "</table>\n",
       "</div>"
      ],
      "text/plain": [
       "          Word 0   Word 1     Word 2     Word 3  Word 4     Word 5    Word 6  \\\n",
       "Topic 0  disease   health  influenza       data   model      study  pandemic   \n",
       "Topic 1    virus  protein       cell       gene   viral  infection     human   \n",
       "Topic 2  patient     cell  infection  influenza   virus      study   disease   \n",
       "Topic 3   method      pcr      assay  detection  sample      virus     using   \n",
       "\n",
       "              Word 7      Word 8      Word 9   Word 10   Word 11   Word 12  \\\n",
       "Topic 0       method      result  population      risk      case    public   \n",
       "Topic 1          rna        host  expression  antibody     study  sequence   \n",
       "Topic 2  respiratory  associated      result      lung     mouse  response   \n",
       "Topic 3          dna       study        used    result  clinical      test   \n",
       "\n",
       "          Word 13       Word 14  \n",
       "Topic 0  outbreak  transmission  \n",
       "Topic 1  response        genome  \n",
       "Topic 2  clinical          case  \n",
       "Topic 3      time         based  "
      ]
     },
     "execution_count": 39,
     "metadata": {},
     "output_type": "execute_result"
    }
   ],
   "source": [
    "def show_topics(vectorizer=vectorizer, lda_model=lda_model, n_words=20):\n",
    "    keywords = np.array(vectorizer.get_feature_names())\n",
    "    topic_keywords = []\n",
    "    for topic_weights in lda_model.components_:\n",
    "        top_keyword_locs = (-topic_weights).argsort()[:n_words]\n",
    "        topic_keywords.append(keywords.take(top_keyword_locs))\n",
    "    return topic_keywords\n",
    "\n",
    "topic_keywords = show_topics(vectorizer=vectorizer, lda_model=best_lda_model, n_words=15)        \n",
    "\n",
    "# Topic - Keywords Dataframe\n",
    "df_topic_keywords = pd.DataFrame(topic_keywords)\n",
    "df_topic_keywords.columns = ['Word '+str(i) for i in range(df_topic_keywords.shape[1])]\n",
    "df_topic_keywords.index = ['Topic '+str(i) for i in range(df_topic_keywords.shape[0])]\n",
    "df_topic_keywords"
   ]
  },
  {
   "cell_type": "code",
   "execution_count": 40,
   "id": "11d33aac",
   "metadata": {},
   "outputs": [
    {
     "name": "stdout",
     "output_type": "stream",
     "text": [
      "<wordcloud.wordcloud.WordCloud object at 0x000001FA749B9A00>\n"
     ]
    },
    {
     "data": {
      "image/png": "[encoded data removed]",
      "text/plain": [
       "<Figure size 864x864 with 1 Axes>"
      ]
     },
     "metadata": {
      "needs_background": "light"
     },
     "output_type": "display_data"
    }
   ],
   "source": [
    "import matplotlib as mpl\n",
    "mpl.rcParams['figure.figsize']=(12.0,12.0)  \n",
    "mpl.rcParams['font.size']=12            \n",
    "mpl.rcParams['savefig.dpi']=100             \n",
    "mpl.rcParams['figure.subplot.bottom']=.1 \n",
    "stopwords = set(STOPWORDS)\n",
    "\n",
    "wordcloud = WordCloud(\n",
    "                          background_color='white',\n",
    "                          stopwords=stopwords,\n",
    "                          max_words=500,\n",
    "                          max_font_size=40, \n",
    "                          random_state=42\n",
    "                         ).generate(str(df_topic_keywords[:'Topic 4']))\n",
    "\n",
    "print(wordcloud)\n",
    "fig = plt.figure(1)\n",
    "plt.imshow(wordcloud)\n",
    "plt.axis('off')\n",
    "plt.show();"
   ]
  },
  {
   "cell_type": "markdown",
   "id": "3594fe21",
   "metadata": {},
   "source": [
    "###### Topic 0 ----> Other disaesase basic of Covid-19's\n",
    "patient, influenza, infection, respiratory, case, study, clinical, disease, mortality, associated, acute, result, method, year, day, severe, conclusion, treatment, pneumonia, group\n",
    "\n",
    "###### Topic 1---->\n",
    "health, influenza, pandemic, risk, disease, public, study, virus, level, ace, factor, transmission, outbreak, result, vaccine, data, country, population, vaccination, control\n",
    "\n",
    "###### Topic  2---->immunity\n",
    "virus, influenza, disease, human, result, infection, method, model, study, viral, time, sample, strain, sequence, analysis, population, using, pcr, data, based\n",
    "\n",
    "###### Topic 3----> virus RNA\n",
    "protein, gene, rna, virus, cell, viral, sequence, host, expression, interaction, structure, function, genome, drug, study, role, activity, domain, analysis, disease\n",
    "\n",
    "###### Topic 4---->Ffinding treatment of  Covid-19's\n",
    "cell, protein, infecti"
   ]
  },
  {
   "cell_type": "code",
   "execution_count": 41,
   "id": "049a76c5",
   "metadata": {},
   "outputs": [
    {
     "data": {
      "text/html": [
       "<div>\n",
       "<style scoped>\n",
       "    .dataframe tbody tr th:only-of-type {\n",
       "        vertical-align: middle;\n",
       "    }\n",
       "\n",
       "    .dataframe tbody tr th {\n",
       "        vertical-align: top;\n",
       "    }\n",
       "\n",
       "    .dataframe thead th {\n",
       "        text-align: right;\n",
       "    }\n",
       "</style>\n",
       "<table border=\"1\" class=\"dataframe\">\n",
       "  <thead>\n",
       "    <tr style=\"text-align: right;\">\n",
       "      <th></th>\n",
       "      <th>Topic0</th>\n",
       "      <th>Topic1</th>\n",
       "      <th>Topic2</th>\n",
       "      <th>Topic3</th>\n",
       "    </tr>\n",
       "  </thead>\n",
       "  <tbody>\n",
       "    <tr>\n",
       "      <th>Doc0</th>\n",
       "      <td>0.00</td>\n",
       "      <td>0.00</td>\n",
       "      <td>0.99</td>\n",
       "      <td>0.00</td>\n",
       "    </tr>\n",
       "    <tr>\n",
       "      <th>Doc1</th>\n",
       "      <td>0.06</td>\n",
       "      <td>0.26</td>\n",
       "      <td>0.68</td>\n",
       "      <td>0.00</td>\n",
       "    </tr>\n",
       "    <tr>\n",
       "      <th>Doc2</th>\n",
       "      <td>0.00</td>\n",
       "      <td>0.58</td>\n",
       "      <td>0.41</td>\n",
       "      <td>0.00</td>\n",
       "    </tr>\n",
       "    <tr>\n",
       "      <th>Doc3</th>\n",
       "      <td>0.01</td>\n",
       "      <td>0.37</td>\n",
       "      <td>0.62</td>\n",
       "      <td>0.01</td>\n",
       "    </tr>\n",
       "    <tr>\n",
       "      <th>Doc4</th>\n",
       "      <td>0.00</td>\n",
       "      <td>0.70</td>\n",
       "      <td>0.30</td>\n",
       "      <td>0.00</td>\n",
       "    </tr>\n",
       "    <tr>\n",
       "      <th>...</th>\n",
       "      <td>...</td>\n",
       "      <td>...</td>\n",
       "      <td>...</td>\n",
       "      <td>...</td>\n",
       "    </tr>\n",
       "    <tr>\n",
       "      <th>Doc1909</th>\n",
       "      <td>0.09</td>\n",
       "      <td>0.00</td>\n",
       "      <td>0.91</td>\n",
       "      <td>0.00</td>\n",
       "    </tr>\n",
       "    <tr>\n",
       "      <th>Doc1910</th>\n",
       "      <td>0.00</td>\n",
       "      <td>0.00</td>\n",
       "      <td>0.27</td>\n",
       "      <td>0.72</td>\n",
       "    </tr>\n",
       "    <tr>\n",
       "      <th>Doc1911</th>\n",
       "      <td>0.00</td>\n",
       "      <td>0.00</td>\n",
       "      <td>0.99</td>\n",
       "      <td>0.00</td>\n",
       "    </tr>\n",
       "    <tr>\n",
       "      <th>Doc1912</th>\n",
       "      <td>0.00</td>\n",
       "      <td>0.65</td>\n",
       "      <td>0.34</td>\n",
       "      <td>0.00</td>\n",
       "    </tr>\n",
       "    <tr>\n",
       "      <th>Doc1913</th>\n",
       "      <td>0.99</td>\n",
       "      <td>0.00</td>\n",
       "      <td>0.00</td>\n",
       "      <td>0.00</td>\n",
       "    </tr>\n",
       "  </tbody>\n",
       "</table>\n",
       "<p>1914 rows × 4 columns</p>\n",
       "</div>"
      ],
      "text/plain": [
       "         Topic0  Topic1  Topic2  Topic3\n",
       "Doc0       0.00    0.00    0.99    0.00\n",
       "Doc1       0.06    0.26    0.68    0.00\n",
       "Doc2       0.00    0.58    0.41    0.00\n",
       "Doc3       0.01    0.37    0.62    0.01\n",
       "Doc4       0.00    0.70    0.30    0.00\n",
       "...         ...     ...     ...     ...\n",
       "Doc1909    0.09    0.00    0.91    0.00\n",
       "Doc1910    0.00    0.00    0.27    0.72\n",
       "Doc1911    0.00    0.00    0.99    0.00\n",
       "Doc1912    0.00    0.65    0.34    0.00\n",
       "Doc1913    0.99    0.00    0.00    0.00\n",
       "\n",
       "[1914 rows x 4 columns]"
      ]
     },
     "execution_count": 41,
     "metadata": {},
     "output_type": "execute_result"
    }
   ],
   "source": [
    "X = df_document_topic.loc[:, ['Topic0', 'Topic1','Topic2' , 'Topic3']]\n",
    "X"
   ]
  },
  {
   "cell_type": "code",
   "execution_count": 42,
   "id": "b6c1d180",
   "metadata": {},
   "outputs": [],
   "source": [
    "from sklearn.preprocessing import StandardScaler\n",
    "ss = StandardScaler()\n",
    "X_over_std = ss.fit_transform(X)"
   ]
  },
  {
   "cell_type": "code",
   "execution_count": 43,
   "id": "7af46b93",
   "metadata": {},
   "outputs": [
    {
     "data": {
      "text/plain": [
       "KMeans()"
      ]
     },
     "execution_count": 43,
     "metadata": {},
     "output_type": "execute_result"
    }
   ],
   "source": [
    "from sklearn.cluster import KMeans\n",
    "km = KMeans()\n",
    "km.fit(X_over_std)"
   ]
  },
  {
   "cell_type": "code",
   "execution_count": 44,
   "id": "23b4e586",
   "metadata": {},
   "outputs": [
    {
     "data": {
      "image/png": "[encoded data removed]",
      "text/plain": [
       "<Figure size 864x864 with 1 Axes>"
      ]
     },
     "metadata": {
      "needs_background": "light"
     },
     "output_type": "display_data"
    }
   ],
   "source": [
    "inertia = []\n",
    "list_num_clusters = list(range(2,21))\n",
    "for num_clusters in list_num_clusters:\n",
    "    km = KMeans(n_clusters=num_clusters)\n",
    "    km.fit(X_over_std)\n",
    "    inertia.append(km.inertia_)\n",
    "    \n",
    "plt.plot(list_num_clusters,inertia)\n",
    "plt.scatter(list_num_clusters,inertia)\n",
    "plt.xlabel('Number of Clusters')\n",
    "plt.ylabel('Inertia');"
   ]
  },
  {
   "cell_type": "code",
   "execution_count": 45,
   "id": "115dd084",
   "metadata": {},
   "outputs": [
    {
     "name": "stdout",
     "output_type": "stream",
     "text": [
      "KMeans(n_clusters=2) For n_clusters = 2 The average silhouette_score is : 0.3464288974047076\n",
      "KMeans(n_clusters=3) For n_clusters = 3 The average silhouette_score is : 0.4905042935378716\n",
      "KMeans(n_clusters=4) For n_clusters = 4 The average silhouette_score is : 0.5809900085670475\n",
      "KMeans(n_clusters=5) For n_clusters = 5 The average silhouette_score is : 0.5173806350728256\n",
      "KMeans(n_clusters=6) For n_clusters = 6 The average silhouette_score is : 0.5209453701408722\n",
      "KMeans(n_clusters=7) For n_clusters = 7 The average silhouette_score is : 0.5198223266715132\n",
      "KMeans() For n_clusters = 8 The average silhouette_score is : 0.5467866380860242\n",
      "KMeans(n_clusters=9) For n_clusters = 9 The average silhouette_score is : 0.5537813594665645\n",
      "KMeans(n_clusters=10) For n_clusters = 10 The average silhouette_score is : 0.5642758622603313\n"
     ]
    }
   ],
   "source": [
    "from sklearn.metrics import silhouette_score\n",
    "for num_clusters in range(2,11):\n",
    "    km = KMeans(n_clusters=num_clusters)\n",
    "    km.fit(X_over_std)\n",
    "    \n",
    "    cluster_labels = km.fit_predict(X_over_std)\n",
    "\n",
    "    # The silhouette_score gives the average value for all the samples.\n",
    "    # This gives a perspective into the density and separation of the formed\n",
    "    # clusters\n",
    "    silhouette_avg = silhouette_score(X_over_std, cluster_labels)\n",
    "    print(\n",
    "        km,\n",
    "        \"For n_clusters =\",\n",
    "        num_clusters,\n",
    "        \"The average silhouette_score is :\",\n",
    "        silhouette_avg,\n",
    "    )"
   ]
  },
  {
   "cell_type": "code",
   "execution_count": 46,
   "id": "2dfee59b",
   "metadata": {},
   "outputs": [
    {
     "data": {
      "text/plain": [
       "KMeans(n_clusters=4, random_state=10)"
      ]
     },
     "execution_count": 46,
     "metadata": {},
     "output_type": "execute_result"
    }
   ],
   "source": [
    "km = KMeans(n_clusters=4,random_state=10)\n",
    "km.fit(X_over_std)"
   ]
  },
  {
   "cell_type": "code",
   "execution_count": 47,
   "id": "d134cc72",
   "metadata": {
    "scrolled": true
   },
   "outputs": [
    {
     "data": {
      "text/html": [
       "<div>\n",
       "<style scoped>\n",
       "    .dataframe tbody tr th:only-of-type {\n",
       "        vertical-align: middle;\n",
       "    }\n",
       "\n",
       "    .dataframe tbody tr th {\n",
       "        vertical-align: top;\n",
       "    }\n",
       "\n",
       "    .dataframe thead th {\n",
       "        text-align: right;\n",
       "    }\n",
       "</style>\n",
       "<table border=\"1\" class=\"dataframe\">\n",
       "  <thead>\n",
       "    <tr style=\"text-align: right;\">\n",
       "      <th></th>\n",
       "      <th>Topic0</th>\n",
       "      <th>Topic1</th>\n",
       "      <th>Topic2</th>\n",
       "      <th>Topic3</th>\n",
       "      <th>dominant_topic</th>\n",
       "      <th>cluster</th>\n",
       "    </tr>\n",
       "  </thead>\n",
       "  <tbody>\n",
       "    <tr>\n",
       "      <th>Doc0</th>\n",
       "      <td>0.00</td>\n",
       "      <td>0.00</td>\n",
       "      <td>0.99</td>\n",
       "      <td>0.00</td>\n",
       "      <td>2</td>\n",
       "      <td>2</td>\n",
       "    </tr>\n",
       "    <tr>\n",
       "      <th>Doc1</th>\n",
       "      <td>0.06</td>\n",
       "      <td>0.26</td>\n",
       "      <td>0.68</td>\n",
       "      <td>0.00</td>\n",
       "      <td>2</td>\n",
       "      <td>2</td>\n",
       "    </tr>\n",
       "    <tr>\n",
       "      <th>Doc2</th>\n",
       "      <td>0.00</td>\n",
       "      <td>0.58</td>\n",
       "      <td>0.41</td>\n",
       "      <td>0.00</td>\n",
       "      <td>1</td>\n",
       "      <td>1</td>\n",
       "    </tr>\n",
       "    <tr>\n",
       "      <th>Doc3</th>\n",
       "      <td>0.01</td>\n",
       "      <td>0.37</td>\n",
       "      <td>0.62</td>\n",
       "      <td>0.01</td>\n",
       "      <td>2</td>\n",
       "      <td>2</td>\n",
       "    </tr>\n",
       "    <tr>\n",
       "      <th>Doc4</th>\n",
       "      <td>0.00</td>\n",
       "      <td>0.70</td>\n",
       "      <td>0.30</td>\n",
       "      <td>0.00</td>\n",
       "      <td>1</td>\n",
       "      <td>1</td>\n",
       "    </tr>\n",
       "    <tr>\n",
       "      <th>Doc5</th>\n",
       "      <td>0.23</td>\n",
       "      <td>0.76</td>\n",
       "      <td>0.00</td>\n",
       "      <td>0.00</td>\n",
       "      <td>1</td>\n",
       "      <td>1</td>\n",
       "    </tr>\n",
       "    <tr>\n",
       "      <th>Doc6</th>\n",
       "      <td>0.03</td>\n",
       "      <td>0.00</td>\n",
       "      <td>0.96</td>\n",
       "      <td>0.00</td>\n",
       "      <td>2</td>\n",
       "      <td>2</td>\n",
       "    </tr>\n",
       "    <tr>\n",
       "      <th>Doc7</th>\n",
       "      <td>0.33</td>\n",
       "      <td>0.00</td>\n",
       "      <td>0.54</td>\n",
       "      <td>0.13</td>\n",
       "      <td>2</td>\n",
       "      <td>2</td>\n",
       "    </tr>\n",
       "    <tr>\n",
       "      <th>Doc8</th>\n",
       "      <td>0.00</td>\n",
       "      <td>0.16</td>\n",
       "      <td>0.83</td>\n",
       "      <td>0.00</td>\n",
       "      <td>2</td>\n",
       "      <td>2</td>\n",
       "    </tr>\n",
       "    <tr>\n",
       "      <th>Doc9</th>\n",
       "      <td>0.99</td>\n",
       "      <td>0.00</td>\n",
       "      <td>0.00</td>\n",
       "      <td>0.00</td>\n",
       "      <td>0</td>\n",
       "      <td>3</td>\n",
       "    </tr>\n",
       "  </tbody>\n",
       "</table>\n",
       "</div>"
      ],
      "text/plain": [
       "      Topic0  Topic1  Topic2  Topic3  dominant_topic  cluster\n",
       "Doc0    0.00    0.00    0.99    0.00               2        2\n",
       "Doc1    0.06    0.26    0.68    0.00               2        2\n",
       "Doc2    0.00    0.58    0.41    0.00               1        1\n",
       "Doc3    0.01    0.37    0.62    0.01               2        2\n",
       "Doc4    0.00    0.70    0.30    0.00               1        1\n",
       "Doc5    0.23    0.76    0.00    0.00               1        1\n",
       "Doc6    0.03    0.00    0.96    0.00               2        2\n",
       "Doc7    0.33    0.00    0.54    0.13               2        2\n",
       "Doc8    0.00    0.16    0.83    0.00               2        2\n",
       "Doc9    0.99    0.00    0.00    0.00               0        3"
      ]
     },
     "execution_count": 47,
     "metadata": {},
     "output_type": "execute_result"
    }
   ],
   "source": [
    "df_document_topic[\"cluster\"] = km.predict(X_over_std)\n",
    "df_document_topic.head(10)"
   ]
  },
  {
   "cell_type": "code",
   "execution_count": 48,
   "id": "10fe2301",
   "metadata": {},
   "outputs": [
    {
     "data": {
      "text/html": [
       "<div>\n",
       "<style scoped>\n",
       "    .dataframe tbody tr th:only-of-type {\n",
       "        vertical-align: middle;\n",
       "    }\n",
       "\n",
       "    .dataframe tbody tr th {\n",
       "        vertical-align: top;\n",
       "    }\n",
       "\n",
       "    .dataframe thead th {\n",
       "        text-align: right;\n",
       "    }\n",
       "</style>\n",
       "<table border=\"1\" class=\"dataframe\">\n",
       "  <thead>\n",
       "    <tr style=\"text-align: right;\">\n",
       "      <th></th>\n",
       "      <th>Topic0</th>\n",
       "      <th>Topic1</th>\n",
       "      <th>Topic2</th>\n",
       "      <th>Topic3</th>\n",
       "    </tr>\n",
       "  </thead>\n",
       "  <tbody>\n",
       "    <tr>\n",
       "      <th>0</th>\n",
       "      <td>-0.446722</td>\n",
       "      <td>-0.559242</td>\n",
       "      <td>-0.619280</td>\n",
       "      <td>2.745431</td>\n",
       "    </tr>\n",
       "    <tr>\n",
       "      <th>1</th>\n",
       "      <td>-0.474830</td>\n",
       "      <td>1.139216</td>\n",
       "      <td>-0.515477</td>\n",
       "      <td>-0.279064</td>\n",
       "    </tr>\n",
       "    <tr>\n",
       "      <th>2</th>\n",
       "      <td>-0.576310</td>\n",
       "      <td>-0.698196</td>\n",
       "      <td>1.432872</td>\n",
       "      <td>-0.307350</td>\n",
       "    </tr>\n",
       "    <tr>\n",
       "      <th>3</th>\n",
       "      <td>1.609483</td>\n",
       "      <td>-0.756278</td>\n",
       "      <td>-0.629247</td>\n",
       "      <td>-0.287748</td>\n",
       "    </tr>\n",
       "  </tbody>\n",
       "</table>\n",
       "</div>"
      ],
      "text/plain": [
       "     Topic0    Topic1    Topic2    Topic3\n",
       "0 -0.446722 -0.559242 -0.619280  2.745431\n",
       "1 -0.474830  1.139216 -0.515477 -0.279064\n",
       "2 -0.576310 -0.698196  1.432872 -0.307350\n",
       "3  1.609483 -0.756278 -0.629247 -0.287748"
      ]
     },
     "execution_count": 48,
     "metadata": {},
     "output_type": "execute_result"
    }
   ],
   "source": [
    "df2= pd.DataFrame(km.cluster_centers_, columns = X.columns)\n",
    "df2"
   ]
  },
  {
   "cell_type": "code",
   "execution_count": 49,
   "id": "af3976d6",
   "metadata": {},
   "outputs": [],
   "source": [
    "df2.to_csv(\"Topic.csv\")  #convert df to csv file"
   ]
  },
  {
   "cell_type": "code",
   "execution_count": null,
   "id": "3509680a",
   "metadata": {},
   "outputs": [],
   "source": []
  },
  {
   "cell_type": "code",
   "execution_count": null,
   "id": "6a25bae7",
   "metadata": {},
   "outputs": [],
   "source": []
  }
 ],
 "metadata": {
  "kernelspec": {
   "display_name": "Python 3",
   "language": "python",
   "name": "python3"
  },
  "language_info": {
   "codemirror_mode": {
    "name": "ipython",
    "version": 3
   },
   "file_extension": ".py",
   "mimetype": "text/x-python",
   "name": "python",
   "nbconvert_exporter": "python",
   "pygments_lexer": "ipython3",
   "version": "3.8.8"
  }
 },
 "nbformat": 4,
 "nbformat_minor": 5
}
